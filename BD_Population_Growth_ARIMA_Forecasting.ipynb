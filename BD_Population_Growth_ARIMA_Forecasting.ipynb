{
 "cells": [
  {
   "cell_type": "code",
   "execution_count": 1,
   "metadata": {},
   "outputs": [],
   "source": [
    "import pandas as pd\n",
    "import numpy as np"
   ]
  },
  {
   "cell_type": "code",
   "execution_count": 2,
   "metadata": {},
   "outputs": [],
   "source": [
    "dff=pd.read_csv(\"BDdata.csv\")"
   ]
  },
  {
   "cell_type": "code",
   "execution_count": 3,
   "metadata": {},
   "outputs": [],
   "source": [
    "dff = dff.set_index('year')"
   ]
  },
  {
   "cell_type": "code",
   "execution_count": 4,
   "metadata": {},
   "outputs": [
    {
     "data": {
      "text/html": [
       "<div>\n",
       "<style scoped>\n",
       "    .dataframe tbody tr th:only-of-type {\n",
       "        vertical-align: middle;\n",
       "    }\n",
       "\n",
       "    .dataframe tbody tr th {\n",
       "        vertical-align: top;\n",
       "    }\n",
       "\n",
       "    .dataframe thead th {\n",
       "        text-align: right;\n",
       "    }\n",
       "</style>\n",
       "<table border=\"1\" class=\"dataframe\">\n",
       "  <thead>\n",
       "    <tr style=\"text-align: right;\">\n",
       "      <th></th>\n",
       "      <th>co2</th>\n",
       "      <th>lifeexpectancy</th>\n",
       "      <th>Infant Mortality Rate</th>\n",
       "      <th>Population Growth Rate</th>\n",
       "      <th>Fertility Rate</th>\n",
       "      <th>GDPpercapita</th>\n",
       "    </tr>\n",
       "    <tr>\n",
       "      <th>year</th>\n",
       "      <th></th>\n",
       "      <th></th>\n",
       "      <th></th>\n",
       "      <th></th>\n",
       "      <th></th>\n",
       "      <th></th>\n",
       "    </tr>\n",
       "  </thead>\n",
       "  <tbody>\n",
       "    <tr>\n",
       "      <th>2015</th>\n",
       "      <td>0.459</td>\n",
       "      <td>71.514</td>\n",
       "      <td>3.06</td>\n",
       "      <td>1.117284</td>\n",
       "      <td>2.120</td>\n",
       "      <td>1248.453398</td>\n",
       "    </tr>\n",
       "    <tr>\n",
       "      <th>2016</th>\n",
       "      <td>0.467</td>\n",
       "      <td>71.785</td>\n",
       "      <td>2.93</td>\n",
       "      <td>1.091300</td>\n",
       "      <td>2.090</td>\n",
       "      <td>1401.620628</td>\n",
       "    </tr>\n",
       "    <tr>\n",
       "      <th>2017</th>\n",
       "      <td>0.493</td>\n",
       "      <td>72.052</td>\n",
       "      <td>2.80</td>\n",
       "      <td>1.070244</td>\n",
       "      <td>2.062</td>\n",
       "      <td>1563.913699</td>\n",
       "    </tr>\n",
       "    <tr>\n",
       "      <th>2018</th>\n",
       "      <td>0.513</td>\n",
       "      <td>72.320</td>\n",
       "      <td>2.67</td>\n",
       "      <td>1.050045</td>\n",
       "      <td>2.036</td>\n",
       "      <td>1698.350394</td>\n",
       "    </tr>\n",
       "    <tr>\n",
       "      <th>2019</th>\n",
       "      <td>0.660</td>\n",
       "      <td>72.591</td>\n",
       "      <td>2.56</td>\n",
       "      <td>1.042001</td>\n",
       "      <td>2.011</td>\n",
       "      <td>1855.739824</td>\n",
       "    </tr>\n",
       "  </tbody>\n",
       "</table>\n",
       "</div>"
      ],
      "text/plain": [
       "        co2  lifeexpectancy  Infant Mortality Rate  Population Growth Rate  \\\n",
       "year                                                                         \n",
       "2015  0.459          71.514                   3.06                1.117284   \n",
       "2016  0.467          71.785                   2.93                1.091300   \n",
       "2017  0.493          72.052                   2.80                1.070244   \n",
       "2018  0.513          72.320                   2.67                1.050045   \n",
       "2019  0.660          72.591                   2.56                1.042001   \n",
       "\n",
       "      Fertility Rate  GDPpercapita  \n",
       "year                                \n",
       "2015           2.120   1248.453398  \n",
       "2016           2.090   1401.620628  \n",
       "2017           2.062   1563.913699  \n",
       "2018           2.036   1698.350394  \n",
       "2019           2.011   1855.739824  "
      ]
     },
     "execution_count": 4,
     "metadata": {},
     "output_type": "execute_result"
    }
   ],
   "source": [
    "dff.tail()"
   ]
  },
  {
   "cell_type": "code",
   "execution_count": 5,
   "metadata": {},
   "outputs": [],
   "source": [
    "from statsmodels.tsa.stattools import adfuller\n",
    "\n",
    "def adf_test(dataset):\n",
    "  dftest = adfuller(dataset, autolag = 'AIC')\n",
    "  print(\"1. ADF : \",dftest[0])\n",
    "  print(\"2. P-Value : \", dftest[1])\n",
    "  print(\"3. Num Of Lags : \", dftest[2])\n",
    "  print(\"4. Num Of Observations Used For ADF Regression and Critical Values Calculation :\", dftest[3])\n",
    "  print(\"5. Critical Values :\")\n",
    "  for key, val in dftest[4].items():\n",
    "      print(\"\\t\",key, \": \", val)"
   ]
  },
  {
   "cell_type": "code",
   "execution_count": 6,
   "metadata": {},
   "outputs": [
    {
     "name": "stdout",
     "output_type": "stream",
     "text": [
      "1. ADF :  1.1233611407216626\n",
      "2. P-Value :  0.9954111507264556\n",
      "3. Num Of Lags :  11\n",
      "4. Num Of Observations Used For ADF Regression and Critical Values Calculation : 48\n",
      "5. Critical Values :\n",
      "\t 1% :  -3.5745892596209488\n",
      "\t 5% :  -2.9239543084490744\n",
      "\t 10% :  -2.6000391840277777\n"
     ]
    }
   ],
   "source": [
    "adf_test(dff['Population Growth Rate'])"
   ]
  },
  {
   "cell_type": "code",
   "execution_count": 7,
   "metadata": {},
   "outputs": [],
   "source": [
    "from pmdarima import auto_arima\n",
    "# Ignore harmless warnings\n",
    "import warnings\n",
    "warnings.filterwarnings(\"ignore\")"
   ]
  },
  {
   "cell_type": "code",
   "execution_count": 8,
   "metadata": {},
   "outputs": [
    {
     "data": {
      "text/html": [
       "<table class=\"simpletable\">\n",
       "<caption>SARIMAX Results</caption>\n",
       "<tr>\n",
       "  <th>Dep. Variable:</th>           <td>y</td>        <th>  No. Observations:  </th>    <td>60</td>   \n",
       "</tr>\n",
       "<tr>\n",
       "  <th>Model:</th>           <td>SARIMAX(2, 1, 4)</td> <th>  Log Likelihood     </th>  <td>148.515</td>\n",
       "</tr>\n",
       "<tr>\n",
       "  <th>Date:</th>            <td>Wed, 13 Oct 2021</td> <th>  AIC                </th> <td>-283.030</td>\n",
       "</tr>\n",
       "<tr>\n",
       "  <th>Time:</th>                <td>23:51:14</td>     <th>  BIC                </th> <td>-268.488</td>\n",
       "</tr>\n",
       "<tr>\n",
       "  <th>Sample:</th>                  <td>0</td>        <th>  HQIC               </th> <td>-277.353</td>\n",
       "</tr>\n",
       "<tr>\n",
       "  <th></th>                       <td> - 60</td>      <th>                     </th>     <td> </td>   \n",
       "</tr>\n",
       "<tr>\n",
       "  <th>Covariance Type:</th>        <td>opg</td>       <th>                     </th>     <td> </td>   \n",
       "</tr>\n",
       "</table>\n",
       "<table class=\"simpletable\">\n",
       "<tr>\n",
       "     <td></td>       <th>coef</th>     <th>std err</th>      <th>z</th>      <th>P>|z|</th>  <th>[0.025</th>    <th>0.975]</th>  \n",
       "</tr>\n",
       "<tr>\n",
       "  <th>ar.L1</th>  <td>    1.3923</td> <td>    0.080</td> <td>   17.362</td> <td> 0.000</td> <td>    1.235</td> <td>    1.549</td>\n",
       "</tr>\n",
       "<tr>\n",
       "  <th>ar.L2</th>  <td>   -0.7718</td> <td>    0.089</td> <td>   -8.686</td> <td> 0.000</td> <td>   -0.946</td> <td>   -0.598</td>\n",
       "</tr>\n",
       "<tr>\n",
       "  <th>ma.L1</th>  <td>    0.8534</td> <td>    0.551</td> <td>    1.548</td> <td> 0.122</td> <td>   -0.227</td> <td>    1.934</td>\n",
       "</tr>\n",
       "<tr>\n",
       "  <th>ma.L2</th>  <td>    0.7794</td> <td>    0.367</td> <td>    2.125</td> <td> 0.034</td> <td>    0.061</td> <td>    1.498</td>\n",
       "</tr>\n",
       "<tr>\n",
       "  <th>ma.L3</th>  <td>    0.8424</td> <td>    1.053</td> <td>    0.800</td> <td> 0.424</td> <td>   -1.222</td> <td>    2.907</td>\n",
       "</tr>\n",
       "<tr>\n",
       "  <th>ma.L4</th>  <td>    0.9500</td> <td>    0.949</td> <td>    1.002</td> <td> 0.317</td> <td>   -0.909</td> <td>    2.809</td>\n",
       "</tr>\n",
       "<tr>\n",
       "  <th>sigma2</th> <td>    0.0003</td> <td>    0.000</td> <td>    1.124</td> <td> 0.261</td> <td>   -0.000</td> <td>    0.001</td>\n",
       "</tr>\n",
       "</table>\n",
       "<table class=\"simpletable\">\n",
       "<tr>\n",
       "  <th>Ljung-Box (L1) (Q):</th>     <td>0.02</td> <th>  Jarque-Bera (JB):  </th> <td>60.61</td>\n",
       "</tr>\n",
       "<tr>\n",
       "  <th>Prob(Q):</th>                <td>0.89</td> <th>  Prob(JB):          </th> <td>0.00</td> \n",
       "</tr>\n",
       "<tr>\n",
       "  <th>Heteroskedasticity (H):</th> <td>0.09</td> <th>  Skew:              </th> <td>-0.76</td>\n",
       "</tr>\n",
       "<tr>\n",
       "  <th>Prob(H) (two-sided):</th>    <td>0.00</td> <th>  Kurtosis:          </th> <td>7.72</td> \n",
       "</tr>\n",
       "</table><br/><br/>Warnings:<br/>[1] Covariance matrix calculated using the outer product of gradients (complex-step)."
      ],
      "text/plain": [
       "<class 'statsmodels.iolib.summary.Summary'>\n",
       "\"\"\"\n",
       "                               SARIMAX Results                                \n",
       "==============================================================================\n",
       "Dep. Variable:                      y   No. Observations:                   60\n",
       "Model:               SARIMAX(2, 1, 4)   Log Likelihood                 148.515\n",
       "Date:                Wed, 13 Oct 2021   AIC                           -283.030\n",
       "Time:                        23:51:14   BIC                           -268.488\n",
       "Sample:                             0   HQIC                          -277.353\n",
       "                                 - 60                                         \n",
       "Covariance Type:                  opg                                         \n",
       "==============================================================================\n",
       "                 coef    std err          z      P>|z|      [0.025      0.975]\n",
       "------------------------------------------------------------------------------\n",
       "ar.L1          1.3923      0.080     17.362      0.000       1.235       1.549\n",
       "ar.L2         -0.7718      0.089     -8.686      0.000      -0.946      -0.598\n",
       "ma.L1          0.8534      0.551      1.548      0.122      -0.227       1.934\n",
       "ma.L2          0.7794      0.367      2.125      0.034       0.061       1.498\n",
       "ma.L3          0.8424      1.053      0.800      0.424      -1.222       2.907\n",
       "ma.L4          0.9500      0.949      1.002      0.317      -0.909       2.809\n",
       "sigma2         0.0003      0.000      1.124      0.261      -0.000       0.001\n",
       "===================================================================================\n",
       "Ljung-Box (L1) (Q):                   0.02   Jarque-Bera (JB):                60.61\n",
       "Prob(Q):                              0.89   Prob(JB):                         0.00\n",
       "Heteroskedasticity (H):               0.09   Skew:                            -0.76\n",
       "Prob(H) (two-sided):                  0.00   Kurtosis:                         7.72\n",
       "===================================================================================\n",
       "\n",
       "Warnings:\n",
       "[1] Covariance matrix calculated using the outer product of gradients (complex-step).\n",
       "\"\"\""
      ]
     },
     "execution_count": 8,
     "metadata": {},
     "output_type": "execute_result"
    }
   ],
   "source": [
    "stepwise_fit = auto_arima(dff['Population Growth Rate'], \n",
    "                          suppress_warnings=True)           \n",
    "\n",
    "stepwise_fit.summary()"
   ]
  },
  {
   "cell_type": "code",
   "execution_count": 9,
   "metadata": {},
   "outputs": [],
   "source": [
    "from statsmodels.tsa.arima_model import ARIMA"
   ]
  },
  {
   "cell_type": "code",
   "execution_count": 10,
   "metadata": {},
   "outputs": [
    {
     "name": "stdout",
     "output_type": "stream",
     "text": [
      "(60, 6)\n",
      "(30, 6) (30, 6)\n",
      "co2                         0.112000\n",
      "lifeexpectancy             58.210000\n",
      "Infant Mortality Rate       9.970000\n",
      "Population Growth Rate      2.429599\n",
      "Fertility Rate              4.495000\n",
      "GDPpercapita              306.268704\n",
      "Name: 1990, dtype: float64 co2                          0.660000\n",
      "lifeexpectancy              72.591000\n",
      "Infant Mortality Rate        2.560000\n",
      "Population Growth Rate       1.042001\n",
      "Fertility Rate               2.011000\n",
      "GDPpercapita              1855.739824\n",
      "Name: 2019, dtype: float64\n"
     ]
    }
   ],
   "source": [
    "print(dff.shape)\n",
    "train=dff.iloc[:-30]\n",
    "test=dff.iloc[-30:]\n",
    "print(train.shape,test.shape)\n",
    "print(test.iloc[0],test.iloc[-1])"
   ]
  },
  {
   "cell_type": "code",
   "execution_count": 11,
   "metadata": {},
   "outputs": [
    {
     "data": {
      "text/html": [
       "<table class=\"simpletable\">\n",
       "<caption>ARIMA Model Results</caption>\n",
       "<tr>\n",
       "  <th>Dep. Variable:</th> <td>D.Population Growth Rate</td> <th>  No. Observations:  </th>    <td>59</td>   \n",
       "</tr>\n",
       "<tr>\n",
       "  <th>Model:</th>              <td>ARIMA(4, 1, 2)</td>      <th>  Log Likelihood     </th>  <td>149.572</td>\n",
       "</tr>\n",
       "<tr>\n",
       "  <th>Method:</th>                 <td>css-mle</td>         <th>  S.D. of innovations</th>   <td>0.017</td> \n",
       "</tr>\n",
       "<tr>\n",
       "  <th>Date:</th>              <td>Wed, 13 Oct 2021</td>     <th>  AIC                </th> <td>-283.144</td>\n",
       "</tr>\n",
       "<tr>\n",
       "  <th>Time:</th>                  <td>23:51:17</td>         <th>  BIC                </th> <td>-266.524</td>\n",
       "</tr>\n",
       "<tr>\n",
       "  <th>Sample:</th>                    <td>1</td>            <th>  HQIC               </th> <td>-276.656</td>\n",
       "</tr>\n",
       "<tr>\n",
       "  <th></th>                           <td> </td>            <th>                     </th>     <td> </td>   \n",
       "</tr>\n",
       "</table>\n",
       "<table class=\"simpletable\">\n",
       "<tr>\n",
       "                 <td></td>                   <th>coef</th>     <th>std err</th>      <th>z</th>      <th>P>|z|</th>  <th>[0.025</th>    <th>0.975]</th>  \n",
       "</tr>\n",
       "<tr>\n",
       "  <th>const</th>                          <td>   -0.0312</td> <td>    0.018</td> <td>   -1.721</td> <td> 0.085</td> <td>   -0.067</td> <td>    0.004</td>\n",
       "</tr>\n",
       "<tr>\n",
       "  <th>ar.L1.D.Population Growth Rate</th> <td>    0.7750</td> <td>    0.130</td> <td>    5.956</td> <td> 0.000</td> <td>    0.520</td> <td>    1.030</td>\n",
       "</tr>\n",
       "<tr>\n",
       "  <th>ar.L2.D.Population Growth Rate</th> <td>    0.5268</td> <td>    0.111</td> <td>    4.767</td> <td> 0.000</td> <td>    0.310</td> <td>    0.743</td>\n",
       "</tr>\n",
       "<tr>\n",
       "  <th>ar.L3.D.Population Growth Rate</th> <td>   -0.9182</td> <td>    0.112</td> <td>   -8.202</td> <td> 0.000</td> <td>   -1.138</td> <td>   -0.699</td>\n",
       "</tr>\n",
       "<tr>\n",
       "  <th>ar.L4.D.Population Growth Rate</th> <td>    0.1557</td> <td>    0.130</td> <td>    1.199</td> <td> 0.231</td> <td>   -0.099</td> <td>    0.410</td>\n",
       "</tr>\n",
       "<tr>\n",
       "  <th>ma.L1.D.Population Growth Rate</th> <td>    1.7998</td> <td>    0.088</td> <td>   20.487</td> <td> 0.000</td> <td>    1.628</td> <td>    1.972</td>\n",
       "</tr>\n",
       "<tr>\n",
       "  <th>ma.L2.D.Population Growth Rate</th> <td>    0.9996</td> <td>    0.090</td> <td>   11.136</td> <td> 0.000</td> <td>    0.824</td> <td>    1.176</td>\n",
       "</tr>\n",
       "</table>\n",
       "<table class=\"simpletable\">\n",
       "<caption>Roots</caption>\n",
       "<tr>\n",
       "    <td></td>   <th>            Real</th>  <th>         Imaginary</th> <th>         Modulus</th>  <th>        Frequency</th>\n",
       "</tr>\n",
       "<tr>\n",
       "  <th>AR.1</th> <td>          -1.0453</td> <td>          -0.0000j</td> <td>           1.0453</td> <td>          -0.5000</td>\n",
       "</tr>\n",
       "<tr>\n",
       "  <th>AR.2</th> <td>           0.9268</td> <td>          -0.5903j</td> <td>           1.0988</td> <td>          -0.0903</td>\n",
       "</tr>\n",
       "<tr>\n",
       "  <th>AR.3</th> <td>           0.9268</td> <td>          +0.5903j</td> <td>           1.0988</td> <td>           0.0903</td>\n",
       "</tr>\n",
       "<tr>\n",
       "  <th>AR.4</th> <td>           5.0905</td> <td>          -0.0000j</td> <td>           5.0905</td> <td>          -0.0000</td>\n",
       "</tr>\n",
       "<tr>\n",
       "  <th>MA.1</th> <td>          -0.9002</td> <td>          -0.4358j</td> <td>           1.0002</td> <td>          -0.4282</td>\n",
       "</tr>\n",
       "<tr>\n",
       "  <th>MA.2</th> <td>          -0.9002</td> <td>          +0.4358j</td> <td>           1.0002</td> <td>           0.4282</td>\n",
       "</tr>\n",
       "</table>"
      ],
      "text/plain": [
       "<class 'statsmodels.iolib.summary.Summary'>\n",
       "\"\"\"\n",
       "                                ARIMA Model Results                                 \n",
       "====================================================================================\n",
       "Dep. Variable:     D.Population Growth Rate   No. Observations:                   59\n",
       "Model:                       ARIMA(4, 1, 2)   Log Likelihood                 149.572\n",
       "Method:                             css-mle   S.D. of innovations              0.017\n",
       "Date:                      Wed, 13 Oct 2021   AIC                           -283.144\n",
       "Time:                              23:51:17   BIC                           -266.524\n",
       "Sample:                                   1   HQIC                          -276.656\n",
       "                                                                                    \n",
       "==================================================================================================\n",
       "                                     coef    std err          z      P>|z|      [0.025      0.975]\n",
       "--------------------------------------------------------------------------------------------------\n",
       "const                             -0.0312      0.018     -1.721      0.085      -0.067       0.004\n",
       "ar.L1.D.Population Growth Rate     0.7750      0.130      5.956      0.000       0.520       1.030\n",
       "ar.L2.D.Population Growth Rate     0.5268      0.111      4.767      0.000       0.310       0.743\n",
       "ar.L3.D.Population Growth Rate    -0.9182      0.112     -8.202      0.000      -1.138      -0.699\n",
       "ar.L4.D.Population Growth Rate     0.1557      0.130      1.199      0.231      -0.099       0.410\n",
       "ma.L1.D.Population Growth Rate     1.7998      0.088     20.487      0.000       1.628       1.972\n",
       "ma.L2.D.Population Growth Rate     0.9996      0.090     11.136      0.000       0.824       1.176\n",
       "                                    Roots                                    \n",
       "=============================================================================\n",
       "                  Real          Imaginary           Modulus         Frequency\n",
       "-----------------------------------------------------------------------------\n",
       "AR.1           -1.0453           -0.0000j            1.0453           -0.5000\n",
       "AR.2            0.9268           -0.5903j            1.0988           -0.0903\n",
       "AR.3            0.9268           +0.5903j            1.0988            0.0903\n",
       "AR.4            5.0905           -0.0000j            5.0905           -0.0000\n",
       "MA.1           -0.9002           -0.4358j            1.0002           -0.4282\n",
       "MA.2           -0.9002           +0.4358j            1.0002            0.4282\n",
       "-----------------------------------------------------------------------------\n",
       "\"\"\""
      ]
     },
     "execution_count": 11,
     "metadata": {},
     "output_type": "execute_result"
    }
   ],
   "source": [
    "from statsmodels.tsa.arima_model import ARIMA\n",
    "model=ARIMA(dff['Population Growth Rate'],order=(4,1,2))\n",
    "model1=model.fit()\n",
    "model1.summary()"
   ]
  },
  {
   "cell_type": "code",
   "execution_count": 12,
   "metadata": {},
   "outputs": [
    {
     "data": {
      "text/plain": [
       "<AxesSubplot:xlabel='year'>"
      ]
     },
     "execution_count": 12,
     "metadata": {},
     "output_type": "execute_result"
    },
    {
     "data": {
      "image/png": "[encoded data removed]",
      "text/plain": [
       "<Figure size 432x288 with 1 Axes>"
      ]
     },
     "metadata": {
      "needs_background": "light"
     },
     "output_type": "display_data"
    }
   ],
   "source": [
    "start=len(train)\n",
    "end=len(train)+len(test)-1\n",
    "pred=model1.predict(start=start,end=end,typ='levels').rename('ARIMA predictions')\n",
    "#pred.index=index_future_dates\n",
    "pred.plot(legend=True)\n",
    "test['Population Growth Rate'].plot(legend=True)"
   ]
  },
  {
   "cell_type": "code",
   "execution_count": 13,
   "metadata": {},
   "outputs": [],
   "source": [
    "from sklearn.metrics import mean_squared_error,  mean_absolute_error"
   ]
  },
  {
   "cell_type": "code",
   "execution_count": 14,
   "metadata": {},
   "outputs": [
    {
     "data": {
      "text/plain": [
       "30    2.427919\n",
       "31    2.334843\n",
       "32    2.225934\n",
       "33    2.170581\n",
       "34    2.138857\n",
       "35    2.138206\n",
       "36    2.140728\n",
       "37    2.104460\n",
       "38    2.083839\n",
       "39    2.024594\n",
       "40    1.955440\n",
       "41    1.876068\n",
       "42    1.843446\n",
       "43    1.744351\n",
       "44    1.617714\n",
       "45    1.497715\n",
       "46    1.354122\n",
       "47    1.225419\n",
       "48    1.143486\n",
       "49    1.116063\n",
       "50    1.130043\n",
       "51    1.148491\n",
       "52    1.150582\n",
       "53    1.150923\n",
       "54    1.147145\n",
       "55    1.108966\n",
       "56    1.086209\n",
       "57    1.073703\n",
       "58    1.045699\n",
       "59    1.033196\n",
       "Name: ARIMA predictions, dtype: float64"
      ]
     },
     "execution_count": 14,
     "metadata": {},
     "output_type": "execute_result"
    }
   ],
   "source": [
    "pred"
   ]
  },
  {
   "cell_type": "code",
   "execution_count": 17,
   "metadata": {},
   "outputs": [],
   "source": [
    "dff['Population Growth Rate Forecast']=pred"
   ]
  },
  {
   "cell_type": "code",
   "execution_count": 18,
   "metadata": {},
   "outputs": [
    {
     "data": {
      "text/html": [
       "<div>\n",
       "<style scoped>\n",
       "    .dataframe tbody tr th:only-of-type {\n",
       "        vertical-align: middle;\n",
       "    }\n",
       "\n",
       "    .dataframe tbody tr th {\n",
       "        vertical-align: top;\n",
       "    }\n",
       "\n",
       "    .dataframe thead th {\n",
       "        text-align: right;\n",
       "    }\n",
       "</style>\n",
       "<table border=\"1\" class=\"dataframe\">\n",
       "  <thead>\n",
       "    <tr style=\"text-align: right;\">\n",
       "      <th></th>\n",
       "      <th>year</th>\n",
       "      <th>co2</th>\n",
       "      <th>lifeexpectancy</th>\n",
       "      <th>Infant Mortality Rate</th>\n",
       "      <th>Population Growth Rate</th>\n",
       "      <th>Fertility Rate</th>\n",
       "      <th>GDPpercapita</th>\n",
       "      <th>IPopulation Growth Rate</th>\n",
       "      <th>Population Growth Rate Forecast</th>\n",
       "    </tr>\n",
       "  </thead>\n",
       "  <tbody>\n",
       "    <tr>\n",
       "      <th>55</th>\n",
       "      <td>2015</td>\n",
       "      <td>0.459</td>\n",
       "      <td>71.514</td>\n",
       "      <td>3.06</td>\n",
       "      <td>1.117284</td>\n",
       "      <td>2.120</td>\n",
       "      <td>1248.453398</td>\n",
       "      <td>1.108966</td>\n",
       "      <td>1.108966</td>\n",
       "    </tr>\n",
       "    <tr>\n",
       "      <th>56</th>\n",
       "      <td>2016</td>\n",
       "      <td>0.467</td>\n",
       "      <td>71.785</td>\n",
       "      <td>2.93</td>\n",
       "      <td>1.091300</td>\n",
       "      <td>2.090</td>\n",
       "      <td>1401.620628</td>\n",
       "      <td>1.086209</td>\n",
       "      <td>1.086209</td>\n",
       "    </tr>\n",
       "    <tr>\n",
       "      <th>57</th>\n",
       "      <td>2017</td>\n",
       "      <td>0.493</td>\n",
       "      <td>72.052</td>\n",
       "      <td>2.80</td>\n",
       "      <td>1.070244</td>\n",
       "      <td>2.062</td>\n",
       "      <td>1563.913699</td>\n",
       "      <td>1.073703</td>\n",
       "      <td>1.073703</td>\n",
       "    </tr>\n",
       "    <tr>\n",
       "      <th>58</th>\n",
       "      <td>2018</td>\n",
       "      <td>0.513</td>\n",
       "      <td>72.320</td>\n",
       "      <td>2.67</td>\n",
       "      <td>1.050045</td>\n",
       "      <td>2.036</td>\n",
       "      <td>1698.350394</td>\n",
       "      <td>1.045699</td>\n",
       "      <td>1.045699</td>\n",
       "    </tr>\n",
       "    <tr>\n",
       "      <th>59</th>\n",
       "      <td>2019</td>\n",
       "      <td>NaN</td>\n",
       "      <td>72.591</td>\n",
       "      <td>2.56</td>\n",
       "      <td>1.042001</td>\n",
       "      <td>NaN</td>\n",
       "      <td>1855.739824</td>\n",
       "      <td>1.033196</td>\n",
       "      <td>1.033196</td>\n",
       "    </tr>\n",
       "  </tbody>\n",
       "</table>\n",
       "</div>"
      ],
      "text/plain": [
       "    year    co2  lifeexpectancy  Infant Mortality Rate  \\\n",
       "55  2015  0.459          71.514                   3.06   \n",
       "56  2016  0.467          71.785                   2.93   \n",
       "57  2017  0.493          72.052                   2.80   \n",
       "58  2018  0.513          72.320                   2.67   \n",
       "59  2019    NaN          72.591                   2.56   \n",
       "\n",
       "    Population Growth Rate  Fertility Rate  GDPpercapita  \\\n",
       "55                1.117284           2.120   1248.453398   \n",
       "56                1.091300           2.090   1401.620628   \n",
       "57                1.070244           2.062   1563.913699   \n",
       "58                1.050045           2.036   1698.350394   \n",
       "59                1.042001             NaN   1855.739824   \n",
       "\n",
       "    IPopulation Growth Rate  Population Growth Rate Forecast  \n",
       "55                 1.108966                         1.108966  \n",
       "56                 1.086209                         1.086209  \n",
       "57                 1.073703                         1.073703  \n",
       "58                 1.045699                         1.045699  \n",
       "59                 1.033196                         1.033196  "
      ]
     },
     "execution_count": 18,
     "metadata": {},
     "output_type": "execute_result"
    }
   ],
   "source": [
    "dff.tail()"
   ]
  },
  {
   "cell_type": "code",
   "execution_count": 19,
   "metadata": {},
   "outputs": [],
   "source": [
    "from statsmodels.tsa.holtwinters import ExponentialSmoothing,SimpleExpSmoothing, Holt"
   ]
  },
  {
   "cell_type": "code",
   "execution_count": 20,
   "metadata": {},
   "outputs": [],
   "source": [
    "holt=Holt(dff['Population Growth Rate'],exponential=True).fit()"
   ]
  },
  {
   "cell_type": "code",
   "execution_count": 21,
   "metadata": {},
   "outputs": [],
   "source": [
    "holt_pred = holt.predict(start=start, end=end)"
   ]
  },
  {
   "cell_type": "code",
   "execution_count": 22,
   "metadata": {},
   "outputs": [
    {
     "data": {
      "text/plain": [
       "<AxesSubplot:>"
      ]
     },
     "execution_count": 22,
     "metadata": {},
     "output_type": "execute_result"
    },
    {
     "data": {
      "image/png": "[encoded data removed]",
      "text/plain": [
       "<Figure size 432x288 with 1 Axes>"
      ]
     },
     "metadata": {
      "needs_background": "light"
     },
     "output_type": "display_data"
    }
   ],
   "source": [
    "holt_pred.plot(legend=True)\n",
    "test['Population Growth Rate'].plot(legend=True)"
   ]
  },
  {
   "cell_type": "code",
   "execution_count": 22,
   "metadata": {},
   "outputs": [
    {
     "data": {
      "text/plain": [
       "year\n",
       "1990    9.982782\n",
       "1991    9.613240\n",
       "1992    9.224483\n",
       "1993    8.864275\n",
       "1994    8.475662\n",
       "1995    8.115486\n",
       "1996    7.746163\n",
       "1997    7.376901\n",
       "1998    7.026766\n",
       "1999    6.667585\n",
       "2000    6.346491\n",
       "2001    6.026327\n",
       "2002    5.735158\n",
       "2003    5.444925\n",
       "2004    5.202723\n",
       "2005    4.952381\n",
       "2006    4.712019\n",
       "2007    4.481636\n",
       "2008    4.261231\n",
       "2009    4.050804\n",
       "2010    3.850352\n",
       "2011    3.678914\n",
       "2012    3.508394\n",
       "2013    3.347853\n",
       "2014    3.197293\n",
       "2015    3.075851\n",
       "2016    2.917009\n",
       "2017    2.805523\n",
       "2018    2.675768\n",
       "2019    2.546036\n",
       "dtype: float64"
      ]
     },
     "execution_count": 22,
     "metadata": {},
     "output_type": "execute_result"
    }
   ],
   "source": [
    "holt_pred"
   ]
  },
  {
   "cell_type": "code",
   "execution_count": 23,
   "metadata": {},
   "outputs": [],
   "source": [
    "dff['holt forecast']=holt_pred"
   ]
  },
  {
   "cell_type": "code",
   "execution_count": 24,
   "metadata": {},
   "outputs": [
    {
     "data": {
      "text/html": [
       "<div>\n",
       "<style scoped>\n",
       "    .dataframe tbody tr th:only-of-type {\n",
       "        vertical-align: middle;\n",
       "    }\n",
       "\n",
       "    .dataframe tbody tr th {\n",
       "        vertical-align: top;\n",
       "    }\n",
       "\n",
       "    .dataframe thead th {\n",
       "        text-align: right;\n",
       "    }\n",
       "</style>\n",
       "<table border=\"1\" class=\"dataframe\">\n",
       "  <thead>\n",
       "    <tr style=\"text-align: right;\">\n",
       "      <th></th>\n",
       "      <th>co2</th>\n",
       "      <th>lifeexpectancy</th>\n",
       "      <th>Infant Mortality Rate</th>\n",
       "      <th>Population Growth Rate</th>\n",
       "      <th>Fertility Rate</th>\n",
       "      <th>GDPpercapita</th>\n",
       "      <th>Infant Mortality Rate forecast</th>\n",
       "      <th>holt forecast</th>\n",
       "    </tr>\n",
       "    <tr>\n",
       "      <th>year</th>\n",
       "      <th></th>\n",
       "      <th></th>\n",
       "      <th></th>\n",
       "      <th></th>\n",
       "      <th></th>\n",
       "      <th></th>\n",
       "      <th></th>\n",
       "      <th></th>\n",
       "    </tr>\n",
       "  </thead>\n",
       "  <tbody>\n",
       "    <tr>\n",
       "      <th>2015</th>\n",
       "      <td>0.459</td>\n",
       "      <td>71.514</td>\n",
       "      <td>3.06</td>\n",
       "      <td>1.091300</td>\n",
       "      <td>2.120</td>\n",
       "      <td>1248.453398</td>\n",
       "      <td>3.069003</td>\n",
       "      <td>3.075851</td>\n",
       "    </tr>\n",
       "    <tr>\n",
       "      <th>2016</th>\n",
       "      <td>0.467</td>\n",
       "      <td>71.785</td>\n",
       "      <td>2.93</td>\n",
       "      <td>1.070244</td>\n",
       "      <td>2.090</td>\n",
       "      <td>1401.620628</td>\n",
       "      <td>2.917053</td>\n",
       "      <td>2.917009</td>\n",
       "    </tr>\n",
       "    <tr>\n",
       "      <th>2017</th>\n",
       "      <td>0.493</td>\n",
       "      <td>72.052</td>\n",
       "      <td>2.80</td>\n",
       "      <td>1.050045</td>\n",
       "      <td>2.062</td>\n",
       "      <td>1563.913699</td>\n",
       "      <td>2.796573</td>\n",
       "      <td>2.805523</td>\n",
       "    </tr>\n",
       "    <tr>\n",
       "      <th>2018</th>\n",
       "      <td>0.513</td>\n",
       "      <td>72.320</td>\n",
       "      <td>2.67</td>\n",
       "      <td>1.042001</td>\n",
       "      <td>2.036</td>\n",
       "      <td>1698.350394</td>\n",
       "      <td>2.671889</td>\n",
       "      <td>2.675768</td>\n",
       "    </tr>\n",
       "    <tr>\n",
       "      <th>2019</th>\n",
       "      <td>NaN</td>\n",
       "      <td>72.591</td>\n",
       "      <td>2.56</td>\n",
       "      <td>NaN</td>\n",
       "      <td>NaN</td>\n",
       "      <td>1855.739824</td>\n",
       "      <td>2.539718</td>\n",
       "      <td>2.546036</td>\n",
       "    </tr>\n",
       "  </tbody>\n",
       "</table>\n",
       "</div>"
      ],
      "text/plain": [
       "        co2  lifeexpectancy  Infant Mortality Rate  Population Growth Rate  \\\n",
       "year                                                                         \n",
       "2015  0.459          71.514                   3.06                1.091300   \n",
       "2016  0.467          71.785                   2.93                1.070244   \n",
       "2017  0.493          72.052                   2.80                1.050045   \n",
       "2018  0.513          72.320                   2.67                1.042001   \n",
       "2019    NaN          72.591                   2.56                     NaN   \n",
       "\n",
       "      Fertility Rate  GDPpercapita  Infant Mortality Rate forecast  \\\n",
       "year                                                                 \n",
       "2015           2.120   1248.453398                        3.069003   \n",
       "2016           2.090   1401.620628                        2.917053   \n",
       "2017           2.062   1563.913699                        2.796573   \n",
       "2018           2.036   1698.350394                        2.671889   \n",
       "2019             NaN   1855.739824                        2.539718   \n",
       "\n",
       "      holt forecast  \n",
       "year                 \n",
       "2015       3.075851  \n",
       "2016       2.917009  \n",
       "2017       2.805523  \n",
       "2018       2.675768  \n",
       "2019       2.546036  "
      ]
     },
     "execution_count": 24,
     "metadata": {},
     "output_type": "execute_result"
    }
   ],
   "source": [
    "dff.tail()"
   ]
  },
  {
   "cell_type": "code",
   "execution_count": 25,
   "metadata": {},
   "outputs": [],
   "source": [
    "dff.to_excel('save2_file.xlsx')"
   ]
  },
  {
   "cell_type": "code",
   "execution_count": null,
   "metadata": {},
   "outputs": [],
   "source": []
  }
 ],
 "metadata": {
  "kernelspec": {
   "display_name": "Python 3",
   "language": "python",
   "name": "python3"
  },
  "language_info": {
   "codemirror_mode": {
    "name": "ipython",
    "version": 3
   },
   "file_extension": ".py",
   "mimetype": "text/x-python",
   "name": "python",
   "nbconvert_exporter": "python",
   "pygments_lexer": "ipython3",
   "version": "3.8.5"
  }
 },
 "nbformat": 4,
 "nbformat_minor": 4
}
