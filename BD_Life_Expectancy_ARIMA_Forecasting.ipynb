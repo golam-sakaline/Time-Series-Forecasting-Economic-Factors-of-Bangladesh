{
 "cells": [
  {
   "cell_type": "code",
   "execution_count": 3,
   "metadata": {},
   "outputs": [],
   "source": [
    "import pandas as pd\n",
    "import numpy as np"
   ]
  },
  {
   "cell_type": "code",
   "execution_count": 4,
   "metadata": {},
   "outputs": [],
   "source": [
    "dff=pd.read_csv(\"BDdata.csv\")"
   ]
  },
  {
   "cell_type": "code",
   "execution_count": 5,
   "metadata": {},
   "outputs": [],
   "source": [
    "dff = dff.set_index('year')"
   ]
  },
  {
   "cell_type": "code",
   "execution_count": 6,
   "metadata": {},
   "outputs": [
    {
     "data": {
      "text/html": [
       "<div>\n",
       "<style scoped>\n",
       "    .dataframe tbody tr th:only-of-type {\n",
       "        vertical-align: middle;\n",
       "    }\n",
       "\n",
       "    .dataframe tbody tr th {\n",
       "        vertical-align: top;\n",
       "    }\n",
       "\n",
       "    .dataframe thead th {\n",
       "        text-align: right;\n",
       "    }\n",
       "</style>\n",
       "<table border=\"1\" class=\"dataframe\">\n",
       "  <thead>\n",
       "    <tr style=\"text-align: right;\">\n",
       "      <th></th>\n",
       "      <th>co2</th>\n",
       "      <th>lifeexpectancy</th>\n",
       "      <th>Infant Mortality Rate</th>\n",
       "      <th>Population Growth Rate</th>\n",
       "      <th>Fertility Rate</th>\n",
       "      <th>GDPpercapita</th>\n",
       "    </tr>\n",
       "    <tr>\n",
       "      <th>year</th>\n",
       "      <th></th>\n",
       "      <th></th>\n",
       "      <th></th>\n",
       "      <th></th>\n",
       "      <th></th>\n",
       "      <th></th>\n",
       "    </tr>\n",
       "  </thead>\n",
       "  <tbody>\n",
       "    <tr>\n",
       "      <th>2015</th>\n",
       "      <td>0.459</td>\n",
       "      <td>71.514</td>\n",
       "      <td>3.06</td>\n",
       "      <td>1.117284</td>\n",
       "      <td>2.120</td>\n",
       "      <td>1248.453398</td>\n",
       "    </tr>\n",
       "    <tr>\n",
       "      <th>2016</th>\n",
       "      <td>0.467</td>\n",
       "      <td>71.785</td>\n",
       "      <td>2.93</td>\n",
       "      <td>1.091300</td>\n",
       "      <td>2.090</td>\n",
       "      <td>1401.620628</td>\n",
       "    </tr>\n",
       "    <tr>\n",
       "      <th>2017</th>\n",
       "      <td>0.493</td>\n",
       "      <td>72.052</td>\n",
       "      <td>2.80</td>\n",
       "      <td>1.070244</td>\n",
       "      <td>2.062</td>\n",
       "      <td>1563.913699</td>\n",
       "    </tr>\n",
       "    <tr>\n",
       "      <th>2018</th>\n",
       "      <td>0.513</td>\n",
       "      <td>72.320</td>\n",
       "      <td>2.67</td>\n",
       "      <td>1.050045</td>\n",
       "      <td>2.036</td>\n",
       "      <td>1698.350394</td>\n",
       "    </tr>\n",
       "    <tr>\n",
       "      <th>2019</th>\n",
       "      <td>0.660</td>\n",
       "      <td>72.591</td>\n",
       "      <td>2.56</td>\n",
       "      <td>1.042001</td>\n",
       "      <td>2.011</td>\n",
       "      <td>1855.739824</td>\n",
       "    </tr>\n",
       "  </tbody>\n",
       "</table>\n",
       "</div>"
      ],
      "text/plain": [
       "        co2  lifeexpectancy  Infant Mortality Rate  Population Growth Rate  \\\n",
       "year                                                                         \n",
       "2015  0.459          71.514                   3.06                1.117284   \n",
       "2016  0.467          71.785                   2.93                1.091300   \n",
       "2017  0.493          72.052                   2.80                1.070244   \n",
       "2018  0.513          72.320                   2.67                1.050045   \n",
       "2019  0.660          72.591                   2.56                1.042001   \n",
       "\n",
       "      Fertility Rate  GDPpercapita  \n",
       "year                                \n",
       "2015           2.120   1248.453398  \n",
       "2016           2.090   1401.620628  \n",
       "2017           2.062   1563.913699  \n",
       "2018           2.036   1698.350394  \n",
       "2019           2.011   1855.739824  "
      ]
     },
     "execution_count": 6,
     "metadata": {},
     "output_type": "execute_result"
    }
   ],
   "source": [
    "dff.tail()"
   ]
  },
  {
   "cell_type": "code",
   "execution_count": 7,
   "metadata": {},
   "outputs": [],
   "source": [
    "from statsmodels.tsa.stattools import adfuller\n",
    "\n",
    "def adf_test(dataset):\n",
    "  dftest = adfuller(dataset, autolag = 'AIC')\n",
    "  print(\"1. ADF : \",dftest[0])\n",
    "  print(\"2. P-Value : \", dftest[1])\n",
    "  print(\"3. Num Of Lags : \", dftest[2])\n",
    "  print(\"4. Num Of Observations Used For ADF Regression and Critical Values Calculation :\", dftest[3])\n",
    "  print(\"5. Critical Values :\")\n",
    "  for key, val in dftest[4].items():\n",
    "      print(\"\\t\",key, \": \", val)"
   ]
  },
  {
   "cell_type": "code",
   "execution_count": 8,
   "metadata": {},
   "outputs": [
    {
     "name": "stdout",
     "output_type": "stream",
     "text": [
      "1. ADF :  -3.190858141003162\n",
      "2. P-Value :  0.020519981717534108\n",
      "3. Num Of Lags :  11\n",
      "4. Num Of Observations Used For ADF Regression and Critical Values Calculation : 48\n",
      "5. Critical Values :\n",
      "\t 1% :  -3.5745892596209488\n",
      "\t 5% :  -2.9239543084490744\n",
      "\t 10% :  -2.6000391840277777\n"
     ]
    }
   ],
   "source": [
    "adf_test(dff['lifeexpectancy'])"
   ]
  },
  {
   "cell_type": "code",
   "execution_count": 13,
   "metadata": {},
   "outputs": [
    {
     "name": "stdout",
     "output_type": "stream",
     "text": [
      "Performing stepwise search to minimize aic\n",
      " ARIMA(0,1,0)(0,0,0)[0] intercept   : AIC=38.983, Time=0.08 sec\n",
      " ARIMA(1,1,0)(0,0,0)[0] intercept   : AIC=-79.921, Time=0.16 sec\n",
      " ARIMA(0,1,1)(0,0,0)[0] intercept   : AIC=inf, Time=0.21 sec\n",
      " ARIMA(0,1,0)(0,0,0)[0]             : AIC=101.960, Time=0.03 sec\n",
      " ARIMA(2,1,0)(0,0,0)[0] intercept   : AIC=-214.614, Time=0.22 sec\n",
      " ARIMA(3,1,0)(0,0,0)[0] intercept   : AIC=-294.209, Time=0.44 sec\n",
      " ARIMA(4,1,0)(0,0,0)[0] intercept   : AIC=-308.520, Time=0.53 sec\n",
      " ARIMA(4,1,1)(0,0,0)[0] intercept   : AIC=-319.576, Time=0.82 sec\n",
      " ARIMA(3,1,1)(0,0,0)[0] intercept   : AIC=-321.168, Time=0.65 sec\n",
      " ARIMA(2,1,1)(0,0,0)[0] intercept   : AIC=-278.150, Time=0.54 sec\n",
      " ARIMA(3,1,2)(0,0,0)[0] intercept   : AIC=-320.794, Time=0.81 sec\n",
      " ARIMA(2,1,2)(0,0,0)[0] intercept   : AIC=-315.093, Time=0.63 sec\n",
      " ARIMA(4,1,2)(0,0,0)[0] intercept   : AIC=inf, Time=1.12 sec\n",
      " ARIMA(3,1,1)(0,0,0)[0]             : AIC=-319.367, Time=0.80 sec\n",
      "\n",
      "Best model:  ARIMA(3,1,1)(0,0,0)[0] intercept\n",
      "Total fit time: 7.060 seconds\n"
     ]
    },
    {
     "data": {
      "text/html": [
       "<table class=\"simpletable\">\n",
       "<caption>SARIMAX Results</caption>\n",
       "<tr>\n",
       "  <th>Dep. Variable:</th>           <td>y</td>        <th>  No. Observations:  </th>    <td>60</td>   \n",
       "</tr>\n",
       "<tr>\n",
       "  <th>Model:</th>           <td>SARIMAX(3, 1, 1)</td> <th>  Log Likelihood     </th>  <td>166.584</td>\n",
       "</tr>\n",
       "<tr>\n",
       "  <th>Date:</th>            <td>Fri, 06 Aug 2021</td> <th>  AIC                </th> <td>-321.168</td>\n",
       "</tr>\n",
       "<tr>\n",
       "  <th>Time:</th>                <td>16:56:22</td>     <th>  BIC                </th> <td>-308.703</td>\n",
       "</tr>\n",
       "<tr>\n",
       "  <th>Sample:</th>                  <td>0</td>        <th>  HQIC               </th> <td>-316.302</td>\n",
       "</tr>\n",
       "<tr>\n",
       "  <th></th>                       <td> - 60</td>      <th>                     </th>     <td> </td>   \n",
       "</tr>\n",
       "<tr>\n",
       "  <th>Covariance Type:</th>        <td>opg</td>       <th>                     </th>     <td> </td>   \n",
       "</tr>\n",
       "</table>\n",
       "<table class=\"simpletable\">\n",
       "<tr>\n",
       "      <td></td>         <th>coef</th>     <th>std err</th>      <th>z</th>      <th>P>|z|</th>  <th>[0.025</th>    <th>0.975]</th>  \n",
       "</tr>\n",
       "<tr>\n",
       "  <th>intercept</th> <td>    0.0166</td> <td>    0.007</td> <td>    2.357</td> <td> 0.018</td> <td>    0.003</td> <td>    0.030</td>\n",
       "</tr>\n",
       "<tr>\n",
       "  <th>ar.L1</th>     <td>    2.4679</td> <td>    0.067</td> <td>   36.771</td> <td> 0.000</td> <td>    2.336</td> <td>    2.599</td>\n",
       "</tr>\n",
       "<tr>\n",
       "  <th>ar.L2</th>     <td>   -2.2019</td> <td>    0.122</td> <td>  -18.037</td> <td> 0.000</td> <td>   -2.441</td> <td>   -1.963</td>\n",
       "</tr>\n",
       "<tr>\n",
       "  <th>ar.L3</th>     <td>    0.6980</td> <td>    0.068</td> <td>   10.222</td> <td> 0.000</td> <td>    0.564</td> <td>    0.832</td>\n",
       "</tr>\n",
       "<tr>\n",
       "  <th>ma.L1</th>     <td>    0.9587</td> <td>    0.087</td> <td>   11.009</td> <td> 0.000</td> <td>    0.788</td> <td>    1.129</td>\n",
       "</tr>\n",
       "<tr>\n",
       "  <th>sigma2</th>    <td>    0.0002</td> <td> 3.05e-05</td> <td>    5.309</td> <td> 0.000</td> <td>    0.000</td> <td>    0.000</td>\n",
       "</tr>\n",
       "</table>\n",
       "<table class=\"simpletable\">\n",
       "<tr>\n",
       "  <th>Ljung-Box (L1) (Q):</th>     <td>0.18</td> <th>  Jarque-Bera (JB):  </th> <td>13.29</td>\n",
       "</tr>\n",
       "<tr>\n",
       "  <th>Prob(Q):</th>                <td>0.68</td> <th>  Prob(JB):          </th> <td>0.00</td> \n",
       "</tr>\n",
       "<tr>\n",
       "  <th>Heteroskedasticity (H):</th> <td>0.29</td> <th>  Skew:              </th> <td>-0.86</td>\n",
       "</tr>\n",
       "<tr>\n",
       "  <th>Prob(H) (two-sided):</th>    <td>0.01</td> <th>  Kurtosis:          </th> <td>4.56</td> \n",
       "</tr>\n",
       "</table><br/><br/>Warnings:<br/>[1] Covariance matrix calculated using the outer product of gradients (complex-step)."
      ],
      "text/plain": [
       "<class 'statsmodels.iolib.summary.Summary'>\n",
       "\"\"\"\n",
       "                               SARIMAX Results                                \n",
       "==============================================================================\n",
       "Dep. Variable:                      y   No. Observations:                   60\n",
       "Model:               SARIMAX(3, 1, 1)   Log Likelihood                 166.584\n",
       "Date:                Fri, 06 Aug 2021   AIC                           -321.168\n",
       "Time:                        16:56:22   BIC                           -308.703\n",
       "Sample:                             0   HQIC                          -316.302\n",
       "                                 - 60                                         \n",
       "Covariance Type:                  opg                                         \n",
       "==============================================================================\n",
       "                 coef    std err          z      P>|z|      [0.025      0.975]\n",
       "------------------------------------------------------------------------------\n",
       "intercept      0.0166      0.007      2.357      0.018       0.003       0.030\n",
       "ar.L1          2.4679      0.067     36.771      0.000       2.336       2.599\n",
       "ar.L2         -2.2019      0.122    -18.037      0.000      -2.441      -1.963\n",
       "ar.L3          0.6980      0.068     10.222      0.000       0.564       0.832\n",
       "ma.L1          0.9587      0.087     11.009      0.000       0.788       1.129\n",
       "sigma2         0.0002   3.05e-05      5.309      0.000       0.000       0.000\n",
       "===================================================================================\n",
       "Ljung-Box (L1) (Q):                   0.18   Jarque-Bera (JB):                13.29\n",
       "Prob(Q):                              0.68   Prob(JB):                         0.00\n",
       "Heteroskedasticity (H):               0.29   Skew:                            -0.86\n",
       "Prob(H) (two-sided):                  0.01   Kurtosis:                         4.56\n",
       "===================================================================================\n",
       "\n",
       "Warnings:\n",
       "[1] Covariance matrix calculated using the outer product of gradients (complex-step).\n",
       "\"\"\""
      ]
     },
     "execution_count": 13,
     "metadata": {},
     "output_type": "execute_result"
    }
   ],
   "source": [
    "stepwise_fit = auto_arima(dff['lifeexpectancy'], start_p=0, start_q=0,\n",
    "                          max_p=4, max_q=4, m=12,\n",
    "                          seasonal=False,\n",
    "                          d=None, trace=True,\n",
    "                          error_action='ignore',   # we don't want to know if an order does not work\n",
    "                          suppress_warnings=True,  # we don't want convergence warnings\n",
    "                          stepwise=True)           # set to stepwise\n",
    "\n",
    "stepwise_fit.summary()"
   ]
  },
  {
   "cell_type": "code",
   "execution_count": null,
   "metadata": {},
   "outputs": [],
   "source": []
  },
  {
   "cell_type": "code",
   "execution_count": null,
   "metadata": {},
   "outputs": [],
   "source": []
  },
  {
   "cell_type": "code",
   "execution_count": null,
   "metadata": {},
   "outputs": [],
   "source": []
  },
  {
   "cell_type": "code",
   "execution_count": 10,
   "metadata": {},
   "outputs": [],
   "source": [
    "from pmdarima import auto_arima\n",
    "# Ignore harmless warnings\n",
    "import warnings\n",
    "warnings.filterwarnings(\"ignore\")"
   ]
  },
  {
   "cell_type": "code",
   "execution_count": 14,
   "metadata": {},
   "outputs": [
    {
     "data": {
      "text/html": [
       "<table class=\"simpletable\">\n",
       "<caption>SARIMAX Results</caption>\n",
       "<tr>\n",
       "  <th>Dep. Variable:</th>           <td>y</td>        <th>  No. Observations:  </th>    <td>60</td>   \n",
       "</tr>\n",
       "<tr>\n",
       "  <th>Model:</th>           <td>SARIMAX(3, 1, 1)</td> <th>  Log Likelihood     </th>  <td>166.584</td>\n",
       "</tr>\n",
       "<tr>\n",
       "  <th>Date:</th>            <td>Fri, 06 Aug 2021</td> <th>  AIC                </th> <td>-321.168</td>\n",
       "</tr>\n",
       "<tr>\n",
       "  <th>Time:</th>                <td>16:59:39</td>     <th>  BIC                </th> <td>-308.703</td>\n",
       "</tr>\n",
       "<tr>\n",
       "  <th>Sample:</th>                  <td>0</td>        <th>  HQIC               </th> <td>-316.302</td>\n",
       "</tr>\n",
       "<tr>\n",
       "  <th></th>                       <td> - 60</td>      <th>                     </th>     <td> </td>   \n",
       "</tr>\n",
       "<tr>\n",
       "  <th>Covariance Type:</th>        <td>opg</td>       <th>                     </th>     <td> </td>   \n",
       "</tr>\n",
       "</table>\n",
       "<table class=\"simpletable\">\n",
       "<tr>\n",
       "      <td></td>         <th>coef</th>     <th>std err</th>      <th>z</th>      <th>P>|z|</th>  <th>[0.025</th>    <th>0.975]</th>  \n",
       "</tr>\n",
       "<tr>\n",
       "  <th>intercept</th> <td>    0.0166</td> <td>    0.007</td> <td>    2.357</td> <td> 0.018</td> <td>    0.003</td> <td>    0.030</td>\n",
       "</tr>\n",
       "<tr>\n",
       "  <th>ar.L1</th>     <td>    2.4679</td> <td>    0.067</td> <td>   36.771</td> <td> 0.000</td> <td>    2.336</td> <td>    2.599</td>\n",
       "</tr>\n",
       "<tr>\n",
       "  <th>ar.L2</th>     <td>   -2.2019</td> <td>    0.122</td> <td>  -18.037</td> <td> 0.000</td> <td>   -2.441</td> <td>   -1.963</td>\n",
       "</tr>\n",
       "<tr>\n",
       "  <th>ar.L3</th>     <td>    0.6980</td> <td>    0.068</td> <td>   10.222</td> <td> 0.000</td> <td>    0.564</td> <td>    0.832</td>\n",
       "</tr>\n",
       "<tr>\n",
       "  <th>ma.L1</th>     <td>    0.9587</td> <td>    0.087</td> <td>   11.009</td> <td> 0.000</td> <td>    0.788</td> <td>    1.129</td>\n",
       "</tr>\n",
       "<tr>\n",
       "  <th>sigma2</th>    <td>    0.0002</td> <td> 3.05e-05</td> <td>    5.309</td> <td> 0.000</td> <td>    0.000</td> <td>    0.000</td>\n",
       "</tr>\n",
       "</table>\n",
       "<table class=\"simpletable\">\n",
       "<tr>\n",
       "  <th>Ljung-Box (L1) (Q):</th>     <td>0.18</td> <th>  Jarque-Bera (JB):  </th> <td>13.29</td>\n",
       "</tr>\n",
       "<tr>\n",
       "  <th>Prob(Q):</th>                <td>0.68</td> <th>  Prob(JB):          </th> <td>0.00</td> \n",
       "</tr>\n",
       "<tr>\n",
       "  <th>Heteroskedasticity (H):</th> <td>0.29</td> <th>  Skew:              </th> <td>-0.86</td>\n",
       "</tr>\n",
       "<tr>\n",
       "  <th>Prob(H) (two-sided):</th>    <td>0.01</td> <th>  Kurtosis:          </th> <td>4.56</td> \n",
       "</tr>\n",
       "</table><br/><br/>Warnings:<br/>[1] Covariance matrix calculated using the outer product of gradients (complex-step)."
      ],
      "text/plain": [
       "<class 'statsmodels.iolib.summary.Summary'>\n",
       "\"\"\"\n",
       "                               SARIMAX Results                                \n",
       "==============================================================================\n",
       "Dep. Variable:                      y   No. Observations:                   60\n",
       "Model:               SARIMAX(3, 1, 1)   Log Likelihood                 166.584\n",
       "Date:                Fri, 06 Aug 2021   AIC                           -321.168\n",
       "Time:                        16:59:39   BIC                           -308.703\n",
       "Sample:                             0   HQIC                          -316.302\n",
       "                                 - 60                                         \n",
       "Covariance Type:                  opg                                         \n",
       "==============================================================================\n",
       "                 coef    std err          z      P>|z|      [0.025      0.975]\n",
       "------------------------------------------------------------------------------\n",
       "intercept      0.0166      0.007      2.357      0.018       0.003       0.030\n",
       "ar.L1          2.4679      0.067     36.771      0.000       2.336       2.599\n",
       "ar.L2         -2.2019      0.122    -18.037      0.000      -2.441      -1.963\n",
       "ar.L3          0.6980      0.068     10.222      0.000       0.564       0.832\n",
       "ma.L1          0.9587      0.087     11.009      0.000       0.788       1.129\n",
       "sigma2         0.0002   3.05e-05      5.309      0.000       0.000       0.000\n",
       "===================================================================================\n",
       "Ljung-Box (L1) (Q):                   0.18   Jarque-Bera (JB):                13.29\n",
       "Prob(Q):                              0.68   Prob(JB):                         0.00\n",
       "Heteroskedasticity (H):               0.29   Skew:                            -0.86\n",
       "Prob(H) (two-sided):                  0.01   Kurtosis:                         4.56\n",
       "===================================================================================\n",
       "\n",
       "Warnings:\n",
       "[1] Covariance matrix calculated using the outer product of gradients (complex-step).\n",
       "\"\"\""
      ]
     },
     "execution_count": 14,
     "metadata": {},
     "output_type": "execute_result"
    }
   ],
   "source": [
    "cstepwise_fit = auto_arima(dff['lifeexpectancy'], \n",
    "                          suppress_warnings=True)           \n",
    "\n",
    "cstepwise_fit.summary()"
   ]
  },
  {
   "cell_type": "code",
   "execution_count": 15,
   "metadata": {},
   "outputs": [],
   "source": [
    "from statsmodels.tsa.arima_model import ARIMA"
   ]
  },
  {
   "cell_type": "code",
   "execution_count": 16,
   "metadata": {},
   "outputs": [
    {
     "name": "stdout",
     "output_type": "stream",
     "text": [
      "(60, 6)\n",
      "(30, 6) (30, 6)\n",
      "co2                         0.112000\n",
      "lifeexpectancy             58.210000\n",
      "Infant Mortality Rate       9.970000\n",
      "Population Growth Rate      2.429599\n",
      "Fertility Rate              4.495000\n",
      "GDPpercapita              306.268704\n",
      "Name: 1990, dtype: float64 co2                          0.660000\n",
      "lifeexpectancy              72.591000\n",
      "Infant Mortality Rate        2.560000\n",
      "Population Growth Rate       1.042001\n",
      "Fertility Rate               2.011000\n",
      "GDPpercapita              1855.739824\n",
      "Name: 2019, dtype: float64\n"
     ]
    }
   ],
   "source": [
    "print(dff.shape)\n",
    "train=dff.iloc[:-30]\n",
    "test=dff.iloc[-30:]\n",
    "print(train.shape,test.shape)\n",
    "print(test.iloc[0],test.iloc[-1])"
   ]
  },
  {
   "cell_type": "code",
   "execution_count": 17,
   "metadata": {},
   "outputs": [
    {
     "data": {
      "text/html": [
       "<table class=\"simpletable\">\n",
       "<caption>ARIMA Model Results</caption>\n",
       "<tr>\n",
       "  <th>Dep. Variable:</th> <td>D.lifeexpectancy</td> <th>  No. Observations:  </th>    <td>59</td>   \n",
       "</tr>\n",
       "<tr>\n",
       "  <th>Model:</th>          <td>ARIMA(3, 1, 1)</td>  <th>  Log Likelihood     </th>  <td>167.397</td>\n",
       "</tr>\n",
       "<tr>\n",
       "  <th>Method:</th>             <td>css-mle</td>     <th>  S.D. of innovations</th>   <td>0.013</td> \n",
       "</tr>\n",
       "<tr>\n",
       "  <th>Date:</th>          <td>Fri, 06 Aug 2021</td> <th>  AIC                </th> <td>-322.794</td>\n",
       "</tr>\n",
       "<tr>\n",
       "  <th>Time:</th>              <td>17:00:03</td>     <th>  BIC                </th> <td>-310.329</td>\n",
       "</tr>\n",
       "<tr>\n",
       "  <th>Sample:</th>                <td>1</td>        <th>  HQIC               </th> <td>-317.928</td>\n",
       "</tr>\n",
       "<tr>\n",
       "  <th></th>                       <td> </td>        <th>                     </th>     <td> </td>   \n",
       "</tr>\n",
       "</table>\n",
       "<table class=\"simpletable\">\n",
       "<tr>\n",
       "             <td></td>               <th>coef</th>     <th>std err</th>      <th>z</th>      <th>P>|z|</th>  <th>[0.025</th>    <th>0.975]</th>  \n",
       "</tr>\n",
       "<tr>\n",
       "  <th>const</th>                  <td>    0.4558</td> <td>    0.087</td> <td>    5.220</td> <td> 0.000</td> <td>    0.285</td> <td>    0.627</td>\n",
       "</tr>\n",
       "<tr>\n",
       "  <th>ar.L1.D.lifeexpectancy</th> <td>    2.5167</td> <td>    0.081</td> <td>   31.236</td> <td> 0.000</td> <td>    2.359</td> <td>    2.675</td>\n",
       "</tr>\n",
       "<tr>\n",
       "  <th>ar.L2.D.lifeexpectancy</th> <td>   -2.2879</td> <td>    0.148</td> <td>  -15.508</td> <td> 0.000</td> <td>   -2.577</td> <td>   -1.999</td>\n",
       "</tr>\n",
       "<tr>\n",
       "  <th>ar.L3.D.lifeexpectancy</th> <td>    0.7386</td> <td>    0.080</td> <td>    9.258</td> <td> 0.000</td> <td>    0.582</td> <td>    0.895</td>\n",
       "</tr>\n",
       "<tr>\n",
       "  <th>ma.L1.D.lifeexpectancy</th> <td>    0.8833</td> <td>    0.074</td> <td>   11.913</td> <td> 0.000</td> <td>    0.738</td> <td>    1.029</td>\n",
       "</tr>\n",
       "</table>\n",
       "<table class=\"simpletable\">\n",
       "<caption>Roots</caption>\n",
       "<tr>\n",
       "    <td></td>   <th>            Real</th>  <th>         Imaginary</th> <th>         Modulus</th>  <th>        Frequency</th>\n",
       "</tr>\n",
       "<tr>\n",
       "  <th>AR.1</th> <td>           0.9529</td> <td>          -0.4774j</td> <td>           1.0658</td> <td>          -0.0739</td>\n",
       "</tr>\n",
       "<tr>\n",
       "  <th>AR.2</th> <td>           0.9529</td> <td>          +0.4774j</td> <td>           1.0658</td> <td>           0.0739</td>\n",
       "</tr>\n",
       "<tr>\n",
       "  <th>AR.3</th> <td>           1.1920</td> <td>          -0.0000j</td> <td>           1.1920</td> <td>          -0.0000</td>\n",
       "</tr>\n",
       "<tr>\n",
       "  <th>MA.1</th> <td>          -1.1321</td> <td>          +0.0000j</td> <td>           1.1321</td> <td>           0.5000</td>\n",
       "</tr>\n",
       "</table>"
      ],
      "text/plain": [
       "<class 'statsmodels.iolib.summary.Summary'>\n",
       "\"\"\"\n",
       "                             ARIMA Model Results                              \n",
       "==============================================================================\n",
       "Dep. Variable:       D.lifeexpectancy   No. Observations:                   59\n",
       "Model:                 ARIMA(3, 1, 1)   Log Likelihood                 167.397\n",
       "Method:                       css-mle   S.D. of innovations              0.013\n",
       "Date:                Fri, 06 Aug 2021   AIC                           -322.794\n",
       "Time:                        17:00:03   BIC                           -310.329\n",
       "Sample:                             1   HQIC                          -317.928\n",
       "                                                                              \n",
       "==========================================================================================\n",
       "                             coef    std err          z      P>|z|      [0.025      0.975]\n",
       "------------------------------------------------------------------------------------------\n",
       "const                      0.4558      0.087      5.220      0.000       0.285       0.627\n",
       "ar.L1.D.lifeexpectancy     2.5167      0.081     31.236      0.000       2.359       2.675\n",
       "ar.L2.D.lifeexpectancy    -2.2879      0.148    -15.508      0.000      -2.577      -1.999\n",
       "ar.L3.D.lifeexpectancy     0.7386      0.080      9.258      0.000       0.582       0.895\n",
       "ma.L1.D.lifeexpectancy     0.8833      0.074     11.913      0.000       0.738       1.029\n",
       "                                    Roots                                    \n",
       "=============================================================================\n",
       "                  Real          Imaginary           Modulus         Frequency\n",
       "-----------------------------------------------------------------------------\n",
       "AR.1            0.9529           -0.4774j            1.0658           -0.0739\n",
       "AR.2            0.9529           +0.4774j            1.0658            0.0739\n",
       "AR.3            1.1920           -0.0000j            1.1920           -0.0000\n",
       "MA.1           -1.1321           +0.0000j            1.1321            0.5000\n",
       "-----------------------------------------------------------------------------\n",
       "\"\"\""
      ]
     },
     "execution_count": 17,
     "metadata": {},
     "output_type": "execute_result"
    }
   ],
   "source": [
    "from statsmodels.tsa.arima_model import ARIMA\n",
    "model=ARIMA(dff['lifeexpectancy'],order=(3,1,1))\n",
    "model1=model.fit()\n",
    "model1.summary()"
   ]
  },
  {
   "cell_type": "code",
   "execution_count": 18,
   "metadata": {},
   "outputs": [
    {
     "data": {
      "text/plain": [
       "<AxesSubplot:xlabel='year'>"
      ]
     },
     "execution_count": 18,
     "metadata": {},
     "output_type": "execute_result"
    },
    {
     "data": {
      "image/png": "[encoded data removed]",
      "text/plain": [
       "<Figure size 432x288 with 1 Axes>"
      ]
     },
     "metadata": {
      "needs_background": "light"
     },
     "output_type": "display_data"
    }
   ],
   "source": [
    "start=len(train)\n",
    "end=len(train)+len(test)-1\n",
    "pred=model1.predict(start=start,end=end,typ='levels').rename('ARIMA predictions')\n",
    "#pred.index=index_future_dates\n",
    "pred.plot(legend=True)\n",
    "test['lifeexpectancy'].plot(legend=True)"
   ]
  },
  {
   "cell_type": "code",
   "execution_count": 19,
   "metadata": {},
   "outputs": [],
   "source": [
    "from sklearn.metrics import mean_squared_error,  mean_absolute_error"
   ]
  },
  {
   "cell_type": "code",
   "execution_count": 22,
   "metadata": {},
   "outputs": [
    {
     "data": {
      "text/plain": [
       "year\n",
       "1990    58.200101\n",
       "1991    58.881705\n",
       "1992    59.618727\n",
       "1993    60.375755\n",
       "1994    61.191206\n",
       "1995    61.997454\n",
       "1996    62.798248\n",
       "1997    63.550503\n",
       "1998    64.248736\n",
       "1999    64.880666\n",
       "2000    65.447160\n",
       "2001    65.957303\n",
       "2002    66.421810\n",
       "2003    66.898514\n",
       "2004    67.328903\n",
       "2005    67.774458\n",
       "2006    68.217640\n",
       "2007    68.648535\n",
       "2008    69.076938\n",
       "2009    69.479328\n",
       "2010    69.895490\n",
       "2011    70.247939\n",
       "2012    70.620779\n",
       "2013    70.923177\n",
       "2014    71.242512\n",
       "2015    71.510454\n",
       "2016    71.794874\n",
       "2017    72.048014\n",
       "2018    72.331350\n",
       "2019    72.588609\n",
       "Name: ARIMA predictions, dtype: float64"
      ]
     },
     "execution_count": 22,
     "metadata": {},
     "output_type": "execute_result"
    }
   ],
   "source": [
    "pred"
   ]
  },
  {
   "cell_type": "code",
   "execution_count": 19,
   "metadata": {},
   "outputs": [],
   "source": [
    "dff['life expectancy forecast']=pred"
   ]
  },
  {
   "cell_type": "code",
   "execution_count": 20,
   "metadata": {},
   "outputs": [
    {
     "data": {
      "text/html": [
       "<div>\n",
       "<style scoped>\n",
       "    .dataframe tbody tr th:only-of-type {\n",
       "        vertical-align: middle;\n",
       "    }\n",
       "\n",
       "    .dataframe tbody tr th {\n",
       "        vertical-align: top;\n",
       "    }\n",
       "\n",
       "    .dataframe thead th {\n",
       "        text-align: right;\n",
       "    }\n",
       "</style>\n",
       "<table border=\"1\" class=\"dataframe\">\n",
       "  <thead>\n",
       "    <tr style=\"text-align: right;\">\n",
       "      <th></th>\n",
       "      <th>co2</th>\n",
       "      <th>lifeexpectancy</th>\n",
       "      <th>Infant Mortality Rate</th>\n",
       "      <th>Population Growth Rate</th>\n",
       "      <th>Fertility Rate</th>\n",
       "      <th>GDPpercapita</th>\n",
       "      <th>life expectancy forecast</th>\n",
       "    </tr>\n",
       "    <tr>\n",
       "      <th>year</th>\n",
       "      <th></th>\n",
       "      <th></th>\n",
       "      <th></th>\n",
       "      <th></th>\n",
       "      <th></th>\n",
       "      <th></th>\n",
       "      <th></th>\n",
       "    </tr>\n",
       "  </thead>\n",
       "  <tbody>\n",
       "    <tr>\n",
       "      <th>2015</th>\n",
       "      <td>0.459</td>\n",
       "      <td>71.514</td>\n",
       "      <td>3.06</td>\n",
       "      <td>1.117284</td>\n",
       "      <td>2.120</td>\n",
       "      <td>1248.453398</td>\n",
       "      <td>71.510454</td>\n",
       "    </tr>\n",
       "    <tr>\n",
       "      <th>2016</th>\n",
       "      <td>0.467</td>\n",
       "      <td>71.785</td>\n",
       "      <td>2.93</td>\n",
       "      <td>1.091300</td>\n",
       "      <td>2.090</td>\n",
       "      <td>1401.620628</td>\n",
       "      <td>71.794874</td>\n",
       "    </tr>\n",
       "    <tr>\n",
       "      <th>2017</th>\n",
       "      <td>0.493</td>\n",
       "      <td>72.052</td>\n",
       "      <td>2.80</td>\n",
       "      <td>1.070244</td>\n",
       "      <td>2.062</td>\n",
       "      <td>1563.913699</td>\n",
       "      <td>72.048014</td>\n",
       "    </tr>\n",
       "    <tr>\n",
       "      <th>2018</th>\n",
       "      <td>0.513</td>\n",
       "      <td>72.320</td>\n",
       "      <td>2.67</td>\n",
       "      <td>1.050045</td>\n",
       "      <td>2.036</td>\n",
       "      <td>1698.350394</td>\n",
       "      <td>72.331350</td>\n",
       "    </tr>\n",
       "    <tr>\n",
       "      <th>2019</th>\n",
       "      <td>0.660</td>\n",
       "      <td>72.591</td>\n",
       "      <td>2.56</td>\n",
       "      <td>1.042001</td>\n",
       "      <td>2.011</td>\n",
       "      <td>1855.739824</td>\n",
       "      <td>72.588609</td>\n",
       "    </tr>\n",
       "  </tbody>\n",
       "</table>\n",
       "</div>"
      ],
      "text/plain": [
       "        co2  lifeexpectancy  Infant Mortality Rate  Population Growth Rate  \\\n",
       "year                                                                         \n",
       "2015  0.459          71.514                   3.06                1.117284   \n",
       "2016  0.467          71.785                   2.93                1.091300   \n",
       "2017  0.493          72.052                   2.80                1.070244   \n",
       "2018  0.513          72.320                   2.67                1.050045   \n",
       "2019  0.660          72.591                   2.56                1.042001   \n",
       "\n",
       "      Fertility Rate  GDPpercapita  life expectancy forecast  \n",
       "year                                                          \n",
       "2015           2.120   1248.453398                 71.510454  \n",
       "2016           2.090   1401.620628                 71.794874  \n",
       "2017           2.062   1563.913699                 72.048014  \n",
       "2018           2.036   1698.350394                 72.331350  \n",
       "2019           2.011   1855.739824                 72.588609  "
      ]
     },
     "execution_count": 20,
     "metadata": {},
     "output_type": "execute_result"
    }
   ],
   "source": [
    "dff.tail()"
   ]
  },
  {
   "cell_type": "code",
   "execution_count": 26,
   "metadata": {},
   "outputs": [],
   "source": [
    "from statsmodels.tsa.holtwinters import ExponentialSmoothing,SimpleExpSmoothing, Holt"
   ]
  },
  {
   "cell_type": "code",
   "execution_count": 28,
   "metadata": {},
   "outputs": [],
   "source": [
    "holt=Holt(dff.lifeexpectancy,exponential=True).fit()"
   ]
  },
  {
   "cell_type": "code",
   "execution_count": 29,
   "metadata": {},
   "outputs": [],
   "source": [
    "holt_pred = holt.predict(start=start, end=end)"
   ]
  },
  {
   "cell_type": "code",
   "execution_count": 30,
   "metadata": {},
   "outputs": [
    {
     "data": {
      "text/plain": [
       "<AxesSubplot:xlabel='year'>"
      ]
     },
     "execution_count": 30,
     "metadata": {},
     "output_type": "execute_result"
    },
    {
     "data": {
      "image/png": "[encoded data removed]",
      "text/plain": [
       "<Figure size 432x288 with 1 Axes>"
      ]
     },
     "metadata": {
      "needs_background": "light"
     },
     "output_type": "display_data"
    }
   ],
   "source": [
    "holt_pred.plot(legend=True)\n",
    "test['lifeexpectancy'].plot(legend=True)"
   ]
  },
  {
   "cell_type": "code",
   "execution_count": 31,
   "metadata": {},
   "outputs": [
    {
     "data": {
      "text/plain": [
       "year\n",
       "1990    58.190597\n",
       "1991    58.856092\n",
       "1992    59.579967\n",
       "1993    60.353975\n",
       "1994    61.167945\n",
       "1995    62.002651\n",
       "1996    62.824775\n",
       "1997    63.604219\n",
       "1998    64.317077\n",
       "1999    64.954644\n",
       "2000    65.518197\n",
       "2001    66.017938\n",
       "2002    66.468959\n",
       "2003    66.907406\n",
       "2004    67.345130\n",
       "2005    67.778961\n",
       "2006    68.217902\n",
       "2007    68.655857\n",
       "2008    69.085774\n",
       "2009    69.498619\n",
       "2010    69.900469\n",
       "2011    70.279257\n",
       "2012    70.633012\n",
       "2013    70.957744\n",
       "2014    71.255487\n",
       "2015    71.533277\n",
       "2016    71.798124\n",
       "2017    72.057027\n",
       "2018    72.319993\n",
       "2019    72.588997\n",
       "dtype: float64"
      ]
     },
     "execution_count": 31,
     "metadata": {},
     "output_type": "execute_result"
    }
   ],
   "source": [
    "holt_pred"
   ]
  },
  {
   "cell_type": "code",
   "execution_count": 32,
   "metadata": {},
   "outputs": [],
   "source": [
    "dff['holt forecast']=holt_pred"
   ]
  },
  {
   "cell_type": "code",
   "execution_count": 33,
   "metadata": {},
   "outputs": [
    {
     "data": {
      "text/html": [
       "<div>\n",
       "<style scoped>\n",
       "    .dataframe tbody tr th:only-of-type {\n",
       "        vertical-align: middle;\n",
       "    }\n",
       "\n",
       "    .dataframe tbody tr th {\n",
       "        vertical-align: top;\n",
       "    }\n",
       "\n",
       "    .dataframe thead th {\n",
       "        text-align: right;\n",
       "    }\n",
       "</style>\n",
       "<table border=\"1\" class=\"dataframe\">\n",
       "  <thead>\n",
       "    <tr style=\"text-align: right;\">\n",
       "      <th></th>\n",
       "      <th>co2</th>\n",
       "      <th>lifeexpectancy</th>\n",
       "      <th>Infant Mortality Rate</th>\n",
       "      <th>Population Growth Rate</th>\n",
       "      <th>Fertility Rate</th>\n",
       "      <th>GDPpercapita</th>\n",
       "      <th>life expectancy forecast</th>\n",
       "      <th>holt forecast</th>\n",
       "    </tr>\n",
       "    <tr>\n",
       "      <th>year</th>\n",
       "      <th></th>\n",
       "      <th></th>\n",
       "      <th></th>\n",
       "      <th></th>\n",
       "      <th></th>\n",
       "      <th></th>\n",
       "      <th></th>\n",
       "      <th></th>\n",
       "    </tr>\n",
       "  </thead>\n",
       "  <tbody>\n",
       "    <tr>\n",
       "      <th>2015</th>\n",
       "      <td>0.459</td>\n",
       "      <td>71.514</td>\n",
       "      <td>3.06</td>\n",
       "      <td>1.091300</td>\n",
       "      <td>2.120</td>\n",
       "      <td>1248.453398</td>\n",
       "      <td>71.510454</td>\n",
       "      <td>71.533277</td>\n",
       "    </tr>\n",
       "    <tr>\n",
       "      <th>2016</th>\n",
       "      <td>0.467</td>\n",
       "      <td>71.785</td>\n",
       "      <td>2.93</td>\n",
       "      <td>1.070244</td>\n",
       "      <td>2.090</td>\n",
       "      <td>1401.620628</td>\n",
       "      <td>71.794874</td>\n",
       "      <td>71.798124</td>\n",
       "    </tr>\n",
       "    <tr>\n",
       "      <th>2017</th>\n",
       "      <td>0.493</td>\n",
       "      <td>72.052</td>\n",
       "      <td>2.80</td>\n",
       "      <td>1.050045</td>\n",
       "      <td>2.062</td>\n",
       "      <td>1563.913699</td>\n",
       "      <td>72.048014</td>\n",
       "      <td>72.057027</td>\n",
       "    </tr>\n",
       "    <tr>\n",
       "      <th>2018</th>\n",
       "      <td>0.513</td>\n",
       "      <td>72.320</td>\n",
       "      <td>2.67</td>\n",
       "      <td>1.042001</td>\n",
       "      <td>2.036</td>\n",
       "      <td>1698.350394</td>\n",
       "      <td>72.331350</td>\n",
       "      <td>72.319993</td>\n",
       "    </tr>\n",
       "    <tr>\n",
       "      <th>2019</th>\n",
       "      <td>NaN</td>\n",
       "      <td>72.591</td>\n",
       "      <td>2.56</td>\n",
       "      <td>NaN</td>\n",
       "      <td>NaN</td>\n",
       "      <td>1855.739824</td>\n",
       "      <td>72.588609</td>\n",
       "      <td>72.588997</td>\n",
       "    </tr>\n",
       "  </tbody>\n",
       "</table>\n",
       "</div>"
      ],
      "text/plain": [
       "        co2  lifeexpectancy  Infant Mortality Rate  Population Growth Rate  \\\n",
       "year                                                                         \n",
       "2015  0.459          71.514                   3.06                1.091300   \n",
       "2016  0.467          71.785                   2.93                1.070244   \n",
       "2017  0.493          72.052                   2.80                1.050045   \n",
       "2018  0.513          72.320                   2.67                1.042001   \n",
       "2019    NaN          72.591                   2.56                     NaN   \n",
       "\n",
       "      Fertility Rate  GDPpercapita  life expectancy forecast  holt forecast  \n",
       "year                                                                         \n",
       "2015           2.120   1248.453398                 71.510454      71.533277  \n",
       "2016           2.090   1401.620628                 71.794874      71.798124  \n",
       "2017           2.062   1563.913699                 72.048014      72.057027  \n",
       "2018           2.036   1698.350394                 72.331350      72.319993  \n",
       "2019             NaN   1855.739824                 72.588609      72.588997  "
      ]
     },
     "execution_count": 33,
     "metadata": {},
     "output_type": "execute_result"
    }
   ],
   "source": [
    "dff.tail()"
   ]
  },
  {
   "cell_type": "code",
   "execution_count": 34,
   "metadata": {},
   "outputs": [],
   "source": [
    "dff.to_excel('save1_file.xlsx')"
   ]
  },
  {
   "cell_type": "code",
   "execution_count": 23,
   "metadata": {},
   "outputs": [],
   "source": [
    "predfuture=model1.predict(start=end+1,end=end+7,typ='levels').rename('ARIMA predictions')"
   ]
  },
  {
   "cell_type": "code",
   "execution_count": 24,
   "metadata": {},
   "outputs": [
    {
     "data": {
      "text/plain": [
       "59    72.874055\n",
       "60    73.179210\n",
       "61    73.514619\n",
       "62    73.884511\n",
       "63    74.288284\n",
       "64    74.720783\n",
       "65    75.173525\n",
       "Name: ARIMA predictions, dtype: float64"
      ]
     },
     "execution_count": 24,
     "metadata": {},
     "output_type": "execute_result"
    }
   ],
   "source": [
    "predfuture"
   ]
  },
  {
   "cell_type": "code",
   "execution_count": null,
   "metadata": {},
   "outputs": [],
   "source": []
  }
 ],
 "metadata": {
  "kernelspec": {
   "display_name": "Python 3",
   "language": "python",
   "name": "python3"
  },
  "language_info": {
   "codemirror_mode": {
    "name": "ipython",
    "version": 3
   },
   "file_extension": ".py",
   "mimetype": "text/x-python",
   "name": "python",
   "nbconvert_exporter": "python",
   "pygments_lexer": "ipython3",
   "version": "3.8.5"
  }
 },
 "nbformat": 4,
 "nbformat_minor": 4
}
