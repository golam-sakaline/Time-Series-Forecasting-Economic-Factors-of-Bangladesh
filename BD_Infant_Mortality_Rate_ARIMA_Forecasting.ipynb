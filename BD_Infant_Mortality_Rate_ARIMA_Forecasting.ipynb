{
 "cells": [
  {
   "cell_type": "code",
   "execution_count": 1,
   "metadata": {},
   "outputs": [],
   "source": [
    "import pandas as pd\n",
    "import numpy as np"
   ]
  },
  {
   "cell_type": "code",
   "execution_count": 2,
   "metadata": {},
   "outputs": [],
   "source": [
    "dff=pd.read_csv(\"BDdata.csv\")"
   ]
  },
  {
   "cell_type": "code",
   "execution_count": 3,
   "metadata": {},
   "outputs": [],
   "source": [
    "dff = dff.set_index('year')"
   ]
  },
  {
   "cell_type": "code",
   "execution_count": 4,
   "metadata": {},
   "outputs": [
    {
     "data": {
      "text/html": [
       "<div>\n",
       "<style scoped>\n",
       "    .dataframe tbody tr th:only-of-type {\n",
       "        vertical-align: middle;\n",
       "    }\n",
       "\n",
       "    .dataframe tbody tr th {\n",
       "        vertical-align: top;\n",
       "    }\n",
       "\n",
       "    .dataframe thead th {\n",
       "        text-align: right;\n",
       "    }\n",
       "</style>\n",
       "<table border=\"1\" class=\"dataframe\">\n",
       "  <thead>\n",
       "    <tr style=\"text-align: right;\">\n",
       "      <th></th>\n",
       "      <th>co2</th>\n",
       "      <th>lifeexpectancy</th>\n",
       "      <th>Infant Mortality Rate</th>\n",
       "      <th>Population Growth Rate</th>\n",
       "      <th>Fertility Rate</th>\n",
       "      <th>GDPpercapita</th>\n",
       "    </tr>\n",
       "    <tr>\n",
       "      <th>year</th>\n",
       "      <th></th>\n",
       "      <th></th>\n",
       "      <th></th>\n",
       "      <th></th>\n",
       "      <th></th>\n",
       "      <th></th>\n",
       "    </tr>\n",
       "  </thead>\n",
       "  <tbody>\n",
       "    <tr>\n",
       "      <th>2015</th>\n",
       "      <td>0.459</td>\n",
       "      <td>71.514</td>\n",
       "      <td>3.06</td>\n",
       "      <td>1.117284</td>\n",
       "      <td>2.120</td>\n",
       "      <td>1248.453398</td>\n",
       "    </tr>\n",
       "    <tr>\n",
       "      <th>2016</th>\n",
       "      <td>0.467</td>\n",
       "      <td>71.785</td>\n",
       "      <td>2.93</td>\n",
       "      <td>1.091300</td>\n",
       "      <td>2.090</td>\n",
       "      <td>1401.620628</td>\n",
       "    </tr>\n",
       "    <tr>\n",
       "      <th>2017</th>\n",
       "      <td>0.493</td>\n",
       "      <td>72.052</td>\n",
       "      <td>2.80</td>\n",
       "      <td>1.070244</td>\n",
       "      <td>2.062</td>\n",
       "      <td>1563.913699</td>\n",
       "    </tr>\n",
       "    <tr>\n",
       "      <th>2018</th>\n",
       "      <td>0.513</td>\n",
       "      <td>72.320</td>\n",
       "      <td>2.67</td>\n",
       "      <td>1.050045</td>\n",
       "      <td>2.036</td>\n",
       "      <td>1698.350394</td>\n",
       "    </tr>\n",
       "    <tr>\n",
       "      <th>2019</th>\n",
       "      <td>0.660</td>\n",
       "      <td>72.591</td>\n",
       "      <td>2.56</td>\n",
       "      <td>1.042001</td>\n",
       "      <td>2.011</td>\n",
       "      <td>1855.739824</td>\n",
       "    </tr>\n",
       "  </tbody>\n",
       "</table>\n",
       "</div>"
      ],
      "text/plain": [
       "        co2  lifeexpectancy  Infant Mortality Rate  Population Growth Rate  \\\n",
       "year                                                                         \n",
       "2015  0.459          71.514                   3.06                1.117284   \n",
       "2016  0.467          71.785                   2.93                1.091300   \n",
       "2017  0.493          72.052                   2.80                1.070244   \n",
       "2018  0.513          72.320                   2.67                1.050045   \n",
       "2019  0.660          72.591                   2.56                1.042001   \n",
       "\n",
       "      Fertility Rate  GDPpercapita  \n",
       "year                                \n",
       "2015           2.120   1248.453398  \n",
       "2016           2.090   1401.620628  \n",
       "2017           2.062   1563.913699  \n",
       "2018           2.036   1698.350394  \n",
       "2019           2.011   1855.739824  "
      ]
     },
     "execution_count": 4,
     "metadata": {},
     "output_type": "execute_result"
    }
   ],
   "source": [
    "dff.tail()"
   ]
  },
  {
   "cell_type": "code",
   "execution_count": 5,
   "metadata": {},
   "outputs": [],
   "source": [
    "from statsmodels.tsa.stattools import adfuller\n",
    "\n",
    "def adf_test(dataset):\n",
    "  dftest = adfuller(dataset, autolag = 'AIC')\n",
    "  print(\"1. ADF : \",dftest[0])\n",
    "  print(\"2. P-Value : \", dftest[1])\n",
    "  print(\"3. Num Of Lags : \", dftest[2])\n",
    "  print(\"4. Num Of Observations Used For ADF Regression and Critical Values Calculation :\", dftest[3])\n",
    "  print(\"5. Critical Values :\")\n",
    "  for key, val in dftest[4].items():\n",
    "      print(\"\\t\",key, \": \", val)"
   ]
  },
  {
   "cell_type": "code",
   "execution_count": 6,
   "metadata": {},
   "outputs": [
    {
     "name": "stdout",
     "output_type": "stream",
     "text": [
      "1. ADF :  -1.5185576363179745\n",
      "2. P-Value :  0.5243119851171748\n",
      "3. Num Of Lags :  6\n",
      "4. Num Of Observations Used For ADF Regression and Critical Values Calculation : 53\n",
      "5. Critical Values :\n",
      "\t 1% :  -3.560242358792829\n",
      "\t 5% :  -2.9178502070837\n",
      "\t 10% :  -2.5967964150943397\n"
     ]
    }
   ],
   "source": [
    "adf_test(dff['Infant Mortality Rate'])"
   ]
  },
  {
   "cell_type": "code",
   "execution_count": 7,
   "metadata": {},
   "outputs": [],
   "source": [
    "from pmdarima import auto_arima\n",
    "# Ignore harmless warnings\n",
    "import warnings\n",
    "warnings.filterwarnings(\"ignore\")"
   ]
  },
  {
   "cell_type": "code",
   "execution_count": 8,
   "metadata": {},
   "outputs": [
    {
     "data": {
      "text/html": [
       "<table class=\"simpletable\">\n",
       "<caption>SARIMAX Results</caption>\n",
       "<tr>\n",
       "  <th>Dep. Variable:</th>           <td>y</td>        <th>  No. Observations:  </th>    <td>60</td>   \n",
       "</tr>\n",
       "<tr>\n",
       "  <th>Model:</th>           <td>SARIMAX(2, 1, 2)</td> <th>  Log Likelihood     </th>  <td>179.942</td>\n",
       "</tr>\n",
       "<tr>\n",
       "  <th>Date:</th>            <td>Wed, 13 Oct 2021</td> <th>  AIC                </th> <td>-347.884</td>\n",
       "</tr>\n",
       "<tr>\n",
       "  <th>Time:</th>                <td>23:49:30</td>     <th>  BIC                </th> <td>-335.419</td>\n",
       "</tr>\n",
       "<tr>\n",
       "  <th>Sample:</th>                  <td>0</td>        <th>  HQIC               </th> <td>-343.018</td>\n",
       "</tr>\n",
       "<tr>\n",
       "  <th></th>                       <td> - 60</td>      <th>                     </th>     <td> </td>   \n",
       "</tr>\n",
       "<tr>\n",
       "  <th>Covariance Type:</th>        <td>opg</td>       <th>                     </th>     <td> </td>   \n",
       "</tr>\n",
       "</table>\n",
       "<table class=\"simpletable\">\n",
       "<tr>\n",
       "      <td></td>         <th>coef</th>     <th>std err</th>      <th>z</th>      <th>P>|z|</th>  <th>[0.025</th>    <th>0.975]</th>  \n",
       "</tr>\n",
       "<tr>\n",
       "  <th>intercept</th> <td>   -0.0121</td> <td>    0.003</td> <td>   -3.737</td> <td> 0.000</td> <td>   -0.018</td> <td>   -0.006</td>\n",
       "</tr>\n",
       "<tr>\n",
       "  <th>ar.L1</th>     <td>    1.9264</td> <td>    0.046</td> <td>   41.956</td> <td> 0.000</td> <td>    1.836</td> <td>    2.016</td>\n",
       "</tr>\n",
       "<tr>\n",
       "  <th>ar.L2</th>     <td>   -0.9729</td> <td>    0.047</td> <td>  -20.689</td> <td> 0.000</td> <td>   -1.065</td> <td>   -0.881</td>\n",
       "</tr>\n",
       "<tr>\n",
       "  <th>ma.L1</th>     <td>   -0.9066</td> <td>    0.078</td> <td>  -11.592</td> <td> 0.000</td> <td>   -1.060</td> <td>   -0.753</td>\n",
       "</tr>\n",
       "<tr>\n",
       "  <th>ma.L2</th>     <td>    0.7501</td> <td>    0.101</td> <td>    7.398</td> <td> 0.000</td> <td>    0.551</td> <td>    0.949</td>\n",
       "</tr>\n",
       "<tr>\n",
       "  <th>sigma2</th>    <td>    0.0001</td> <td> 2.49e-05</td> <td>    4.451</td> <td> 0.000</td> <td>  6.2e-05</td> <td>    0.000</td>\n",
       "</tr>\n",
       "</table>\n",
       "<table class=\"simpletable\">\n",
       "<tr>\n",
       "  <th>Ljung-Box (L1) (Q):</th>     <td>0.01</td> <th>  Jarque-Bera (JB):  </th> <td>3.03</td>\n",
       "</tr>\n",
       "<tr>\n",
       "  <th>Prob(Q):</th>                <td>0.93</td> <th>  Prob(JB):          </th> <td>0.22</td>\n",
       "</tr>\n",
       "<tr>\n",
       "  <th>Heteroskedasticity (H):</th> <td>0.59</td> <th>  Skew:              </th> <td>0.54</td>\n",
       "</tr>\n",
       "<tr>\n",
       "  <th>Prob(H) (two-sided):</th>    <td>0.25</td> <th>  Kurtosis:          </th> <td>2.75</td>\n",
       "</tr>\n",
       "</table><br/><br/>Warnings:<br/>[1] Covariance matrix calculated using the outer product of gradients (complex-step)."
      ],
      "text/plain": [
       "<class 'statsmodels.iolib.summary.Summary'>\n",
       "\"\"\"\n",
       "                               SARIMAX Results                                \n",
       "==============================================================================\n",
       "Dep. Variable:                      y   No. Observations:                   60\n",
       "Model:               SARIMAX(2, 1, 2)   Log Likelihood                 179.942\n",
       "Date:                Wed, 13 Oct 2021   AIC                           -347.884\n",
       "Time:                        23:49:30   BIC                           -335.419\n",
       "Sample:                             0   HQIC                          -343.018\n",
       "                                 - 60                                         \n",
       "Covariance Type:                  opg                                         \n",
       "==============================================================================\n",
       "                 coef    std err          z      P>|z|      [0.025      0.975]\n",
       "------------------------------------------------------------------------------\n",
       "intercept     -0.0121      0.003     -3.737      0.000      -0.018      -0.006\n",
       "ar.L1          1.9264      0.046     41.956      0.000       1.836       2.016\n",
       "ar.L2         -0.9729      0.047    -20.689      0.000      -1.065      -0.881\n",
       "ma.L1         -0.9066      0.078    -11.592      0.000      -1.060      -0.753\n",
       "ma.L2          0.7501      0.101      7.398      0.000       0.551       0.949\n",
       "sigma2         0.0001   2.49e-05      4.451      0.000     6.2e-05       0.000\n",
       "===================================================================================\n",
       "Ljung-Box (L1) (Q):                   0.01   Jarque-Bera (JB):                 3.03\n",
       "Prob(Q):                              0.93   Prob(JB):                         0.22\n",
       "Heteroskedasticity (H):               0.59   Skew:                             0.54\n",
       "Prob(H) (two-sided):                  0.25   Kurtosis:                         2.75\n",
       "===================================================================================\n",
       "\n",
       "Warnings:\n",
       "[1] Covariance matrix calculated using the outer product of gradients (complex-step).\n",
       "\"\"\""
      ]
     },
     "execution_count": 8,
     "metadata": {},
     "output_type": "execute_result"
    }
   ],
   "source": [
    "stepwise_fit = auto_arima(dff['Infant Mortality Rate'], \n",
    "                          suppress_warnings=True)           \n",
    "\n",
    "stepwise_fit.summary()"
   ]
  },
  {
   "cell_type": "code",
   "execution_count": 9,
   "metadata": {},
   "outputs": [],
   "source": [
    "from statsmodels.tsa.arima_model import ARIMA"
   ]
  },
  {
   "cell_type": "code",
   "execution_count": 10,
   "metadata": {},
   "outputs": [
    {
     "name": "stdout",
     "output_type": "stream",
     "text": [
      "(60, 6)\n",
      "(30, 6) (30, 6)\n",
      "co2                         0.112000\n",
      "lifeexpectancy             58.210000\n",
      "Infant Mortality Rate       9.970000\n",
      "Population Growth Rate      2.429599\n",
      "Fertility Rate              4.495000\n",
      "GDPpercapita              306.268704\n",
      "Name: 1990, dtype: float64 co2                          0.660000\n",
      "lifeexpectancy              72.591000\n",
      "Infant Mortality Rate        2.560000\n",
      "Population Growth Rate       1.042001\n",
      "Fertility Rate               2.011000\n",
      "GDPpercapita              1855.739824\n",
      "Name: 2019, dtype: float64\n"
     ]
    }
   ],
   "source": [
    "print(dff.shape)\n",
    "train=dff.iloc[:-30]\n",
    "test=dff.iloc[-30:]\n",
    "print(train.shape,test.shape)\n",
    "print(test.iloc[0],test.iloc[-1])"
   ]
  },
  {
   "cell_type": "code",
   "execution_count": 11,
   "metadata": {},
   "outputs": [
    {
     "data": {
      "text/html": [
       "<table class=\"simpletable\">\n",
       "<caption>ARIMA Model Results</caption>\n",
       "<tr>\n",
       "  <th>Dep. Variable:</th> <td>D.Infant Mortality Rate</td> <th>  No. Observations:  </th>    <td>59</td>   \n",
       "</tr>\n",
       "<tr>\n",
       "  <th>Model:</th>             <td>ARIMA(2, 1, 2)</td>      <th>  Log Likelihood     </th>  <td>181.105</td>\n",
       "</tr>\n",
       "<tr>\n",
       "  <th>Method:</th>                <td>css-mle</td>         <th>  S.D. of innovations</th>   <td>0.010</td> \n",
       "</tr>\n",
       "<tr>\n",
       "  <th>Date:</th>             <td>Wed, 13 Oct 2021</td>     <th>  AIC                </th> <td>-350.210</td>\n",
       "</tr>\n",
       "<tr>\n",
       "  <th>Time:</th>                 <td>23:49:32</td>         <th>  BIC                </th> <td>-337.745</td>\n",
       "</tr>\n",
       "<tr>\n",
       "  <th>Sample:</th>                   <td>1</td>            <th>  HQIC               </th> <td>-345.344</td>\n",
       "</tr>\n",
       "<tr>\n",
       "  <th></th>                          <td> </td>            <th>                     </th>     <td> </td>   \n",
       "</tr>\n",
       "</table>\n",
       "<table class=\"simpletable\">\n",
       "<tr>\n",
       "                <td></td>                   <th>coef</th>     <th>std err</th>      <th>z</th>      <th>P>|z|</th>  <th>[0.025</th>    <th>0.975]</th>  \n",
       "</tr>\n",
       "<tr>\n",
       "  <th>const</th>                         <td>   -0.2635</td> <td>    0.034</td> <td>   -7.687</td> <td> 0.000</td> <td>   -0.331</td> <td>   -0.196</td>\n",
       "</tr>\n",
       "<tr>\n",
       "  <th>ar.L1.D.Infant Mortality Rate</th> <td>    1.9040</td> <td>    0.042</td> <td>   45.023</td> <td> 0.000</td> <td>    1.821</td> <td>    1.987</td>\n",
       "</tr>\n",
       "<tr>\n",
       "  <th>ar.L2.D.Infant Mortality Rate</th> <td>   -0.9369</td> <td>    0.043</td> <td>  -21.639</td> <td> 0.000</td> <td>   -1.022</td> <td>   -0.852</td>\n",
       "</tr>\n",
       "<tr>\n",
       "  <th>ma.L1.D.Infant Mortality Rate</th> <td>   -0.8746</td> <td>    0.110</td> <td>   -7.963</td> <td> 0.000</td> <td>   -1.090</td> <td>   -0.659</td>\n",
       "</tr>\n",
       "<tr>\n",
       "  <th>ma.L2.D.Infant Mortality Rate</th> <td>    0.7165</td> <td>    0.111</td> <td>    6.441</td> <td> 0.000</td> <td>    0.498</td> <td>    0.935</td>\n",
       "</tr>\n",
       "</table>\n",
       "<table class=\"simpletable\">\n",
       "<caption>Roots</caption>\n",
       "<tr>\n",
       "    <td></td>   <th>            Real</th>  <th>         Imaginary</th> <th>         Modulus</th>  <th>        Frequency</th>\n",
       "</tr>\n",
       "<tr>\n",
       "  <th>AR.1</th> <td>           1.0162</td> <td>          -0.1866j</td> <td>           1.0332</td> <td>          -0.0289</td>\n",
       "</tr>\n",
       "<tr>\n",
       "  <th>AR.2</th> <td>           1.0162</td> <td>          +0.1866j</td> <td>           1.0332</td> <td>           0.0289</td>\n",
       "</tr>\n",
       "<tr>\n",
       "  <th>MA.1</th> <td>           0.6103</td> <td>          -1.0115j</td> <td>           1.1813</td> <td>          -0.1636</td>\n",
       "</tr>\n",
       "<tr>\n",
       "  <th>MA.2</th> <td>           0.6103</td> <td>          +1.0115j</td> <td>           1.1813</td> <td>           0.1636</td>\n",
       "</tr>\n",
       "</table>"
      ],
      "text/plain": [
       "<class 'statsmodels.iolib.summary.Summary'>\n",
       "\"\"\"\n",
       "                                ARIMA Model Results                                \n",
       "===================================================================================\n",
       "Dep. Variable:     D.Infant Mortality Rate   No. Observations:                   59\n",
       "Model:                      ARIMA(2, 1, 2)   Log Likelihood                 181.105\n",
       "Method:                            css-mle   S.D. of innovations              0.010\n",
       "Date:                     Wed, 13 Oct 2021   AIC                           -350.210\n",
       "Time:                             23:49:32   BIC                           -337.745\n",
       "Sample:                                  1   HQIC                          -345.344\n",
       "                                                                                   \n",
       "=================================================================================================\n",
       "                                    coef    std err          z      P>|z|      [0.025      0.975]\n",
       "-------------------------------------------------------------------------------------------------\n",
       "const                            -0.2635      0.034     -7.687      0.000      -0.331      -0.196\n",
       "ar.L1.D.Infant Mortality Rate     1.9040      0.042     45.023      0.000       1.821       1.987\n",
       "ar.L2.D.Infant Mortality Rate    -0.9369      0.043    -21.639      0.000      -1.022      -0.852\n",
       "ma.L1.D.Infant Mortality Rate    -0.8746      0.110     -7.963      0.000      -1.090      -0.659\n",
       "ma.L2.D.Infant Mortality Rate     0.7165      0.111      6.441      0.000       0.498       0.935\n",
       "                                    Roots                                    \n",
       "=============================================================================\n",
       "                  Real          Imaginary           Modulus         Frequency\n",
       "-----------------------------------------------------------------------------\n",
       "AR.1            1.0162           -0.1866j            1.0332           -0.0289\n",
       "AR.2            1.0162           +0.1866j            1.0332            0.0289\n",
       "MA.1            0.6103           -1.0115j            1.1813           -0.1636\n",
       "MA.2            0.6103           +1.0115j            1.1813            0.1636\n",
       "-----------------------------------------------------------------------------\n",
       "\"\"\""
      ]
     },
     "execution_count": 11,
     "metadata": {},
     "output_type": "execute_result"
    }
   ],
   "source": [
    "from statsmodels.tsa.arima_model import ARIMA\n",
    "model=ARIMA(dff['Infant Mortality Rate'],order=(2,1,2))\n",
    "model1=model.fit()\n",
    "model1.summary()"
   ]
  },
  {
   "cell_type": "code",
   "execution_count": 12,
   "metadata": {},
   "outputs": [
    {
     "data": {
      "text/plain": [
       "<AxesSubplot:xlabel='year'>"
      ]
     },
     "execution_count": 12,
     "metadata": {},
     "output_type": "execute_result"
    },
    {
     "data": {
      "image/png": "[encoded data removed]",
      "text/plain": [
       "<Figure size 432x288 with 1 Axes>"
      ]
     },
     "metadata": {
      "needs_background": "light"
     },
     "output_type": "display_data"
    }
   ],
   "source": [
    "start=len(train)\n",
    "end=len(train)+len(test)-1\n",
    "pred=model1.predict(start=start,end=end,typ='levels').rename('ARIMA predictions')\n",
    "#pred.index=index_future_dates\n",
    "pred.plot(legend=True)\n",
    "test['Infant Mortality Rate'].plot(legend=True)"
   ]
  },
  {
   "cell_type": "code",
   "execution_count": 14,
   "metadata": {},
   "outputs": [],
   "source": [
    "from sklearn.metrics import mean_squared_error,  mean_absolute_error"
   ]
  },
  {
   "cell_type": "code",
   "execution_count": 15,
   "metadata": {},
   "outputs": [
    {
     "data": {
      "text/plain": [
       "year\n",
       "1990    9.973697\n",
       "1991    9.602319\n",
       "1992    9.212587\n",
       "1993    8.847560\n",
       "1994    8.466385\n",
       "1995    8.104291\n",
       "1996    7.739845\n",
       "1997    7.369037\n",
       "1998    7.014644\n",
       "1999    6.657925\n",
       "2000    6.337363\n",
       "2001    6.027901\n",
       "2002    5.740319\n",
       "2003    5.451098\n",
       "2004    5.203139\n",
       "2005    4.958377\n",
       "2006    4.714002\n",
       "2007    4.476093\n",
       "2008    4.251982\n",
       "2009    4.043725\n",
       "2010    3.847866\n",
       "2011    3.680204\n",
       "2012    3.515495\n",
       "2013    3.350954\n",
       "2014    3.192861\n",
       "2015    3.069003\n",
       "2016    2.917053\n",
       "2017    2.796573\n",
       "2018    2.671889\n",
       "2019    2.539718\n",
       "Name: ARIMA predictions, dtype: float64"
      ]
     },
     "execution_count": 15,
     "metadata": {},
     "output_type": "execute_result"
    }
   ],
   "source": [
    "pred"
   ]
  },
  {
   "cell_type": "code",
   "execution_count": 16,
   "metadata": {},
   "outputs": [],
   "source": [
    "dff['Infant Mortality Rate forecast']=pred"
   ]
  },
  {
   "cell_type": "code",
   "execution_count": 17,
   "metadata": {},
   "outputs": [
    {
     "data": {
      "text/html": [
       "<div>\n",
       "<style scoped>\n",
       "    .dataframe tbody tr th:only-of-type {\n",
       "        vertical-align: middle;\n",
       "    }\n",
       "\n",
       "    .dataframe tbody tr th {\n",
       "        vertical-align: top;\n",
       "    }\n",
       "\n",
       "    .dataframe thead th {\n",
       "        text-align: right;\n",
       "    }\n",
       "</style>\n",
       "<table border=\"1\" class=\"dataframe\">\n",
       "  <thead>\n",
       "    <tr style=\"text-align: right;\">\n",
       "      <th></th>\n",
       "      <th>co2</th>\n",
       "      <th>lifeexpectancy</th>\n",
       "      <th>Infant Mortality Rate</th>\n",
       "      <th>Population Growth Rate</th>\n",
       "      <th>Fertility Rate</th>\n",
       "      <th>GDPpercapita</th>\n",
       "      <th>Infant Mortality Rate forecast</th>\n",
       "    </tr>\n",
       "    <tr>\n",
       "      <th>year</th>\n",
       "      <th></th>\n",
       "      <th></th>\n",
       "      <th></th>\n",
       "      <th></th>\n",
       "      <th></th>\n",
       "      <th></th>\n",
       "      <th></th>\n",
       "    </tr>\n",
       "  </thead>\n",
       "  <tbody>\n",
       "    <tr>\n",
       "      <th>2015</th>\n",
       "      <td>0.459</td>\n",
       "      <td>71.514</td>\n",
       "      <td>3.06</td>\n",
       "      <td>1.091300</td>\n",
       "      <td>2.120</td>\n",
       "      <td>1248.453398</td>\n",
       "      <td>3.069003</td>\n",
       "    </tr>\n",
       "    <tr>\n",
       "      <th>2016</th>\n",
       "      <td>0.467</td>\n",
       "      <td>71.785</td>\n",
       "      <td>2.93</td>\n",
       "      <td>1.070244</td>\n",
       "      <td>2.090</td>\n",
       "      <td>1401.620628</td>\n",
       "      <td>2.917053</td>\n",
       "    </tr>\n",
       "    <tr>\n",
       "      <th>2017</th>\n",
       "      <td>0.493</td>\n",
       "      <td>72.052</td>\n",
       "      <td>2.80</td>\n",
       "      <td>1.050045</td>\n",
       "      <td>2.062</td>\n",
       "      <td>1563.913699</td>\n",
       "      <td>2.796573</td>\n",
       "    </tr>\n",
       "    <tr>\n",
       "      <th>2018</th>\n",
       "      <td>0.513</td>\n",
       "      <td>72.320</td>\n",
       "      <td>2.67</td>\n",
       "      <td>1.042001</td>\n",
       "      <td>2.036</td>\n",
       "      <td>1698.350394</td>\n",
       "      <td>2.671889</td>\n",
       "    </tr>\n",
       "    <tr>\n",
       "      <th>2019</th>\n",
       "      <td>NaN</td>\n",
       "      <td>72.591</td>\n",
       "      <td>2.56</td>\n",
       "      <td>NaN</td>\n",
       "      <td>NaN</td>\n",
       "      <td>1855.739824</td>\n",
       "      <td>2.539718</td>\n",
       "    </tr>\n",
       "  </tbody>\n",
       "</table>\n",
       "</div>"
      ],
      "text/plain": [
       "        co2  lifeexpectancy  Infant Mortality Rate  Population Growth Rate  \\\n",
       "year                                                                         \n",
       "2015  0.459          71.514                   3.06                1.091300   \n",
       "2016  0.467          71.785                   2.93                1.070244   \n",
       "2017  0.493          72.052                   2.80                1.050045   \n",
       "2018  0.513          72.320                   2.67                1.042001   \n",
       "2019    NaN          72.591                   2.56                     NaN   \n",
       "\n",
       "      Fertility Rate  GDPpercapita  Infant Mortality Rate forecast  \n",
       "year                                                                \n",
       "2015           2.120   1248.453398                        3.069003  \n",
       "2016           2.090   1401.620628                        2.917053  \n",
       "2017           2.062   1563.913699                        2.796573  \n",
       "2018           2.036   1698.350394                        2.671889  \n",
       "2019             NaN   1855.739824                        2.539718  "
      ]
     },
     "execution_count": 17,
     "metadata": {},
     "output_type": "execute_result"
    }
   ],
   "source": [
    "dff.tail()"
   ]
  },
  {
   "cell_type": "code",
   "execution_count": 18,
   "metadata": {},
   "outputs": [],
   "source": [
    "from statsmodels.tsa.holtwinters import ExponentialSmoothing,SimpleExpSmoothing, Holt"
   ]
  },
  {
   "cell_type": "code",
   "execution_count": 19,
   "metadata": {},
   "outputs": [],
   "source": [
    "holt=Holt(dff['Infant Mortality Rate'],exponential=True).fit()"
   ]
  },
  {
   "cell_type": "code",
   "execution_count": 20,
   "metadata": {},
   "outputs": [],
   "source": [
    "holt_pred = holt.predict(start=start, end=end)"
   ]
  },
  {
   "cell_type": "code",
   "execution_count": 21,
   "metadata": {},
   "outputs": [
    {
     "data": {
      "text/plain": [
       "<AxesSubplot:xlabel='year'>"
      ]
     },
     "execution_count": 21,
     "metadata": {},
     "output_type": "execute_result"
    },
    {
     "data": {
      "image/png": "[encoded data removed]",
      "text/plain": [
       "<Figure size 432x288 with 1 Axes>"
      ]
     },
     "metadata": {
      "needs_background": "light"
     },
     "output_type": "display_data"
    }
   ],
   "source": [
    "holt_pred.plot(legend=True)\n",
    "test['Infant Mortality Rate'].plot(legend=True)"
   ]
  },
  {
   "cell_type": "code",
   "execution_count": 22,
   "metadata": {},
   "outputs": [
    {
     "data": {
      "text/plain": [
       "year\n",
       "1990    9.982782\n",
       "1991    9.613240\n",
       "1992    9.224483\n",
       "1993    8.864275\n",
       "1994    8.475662\n",
       "1995    8.115486\n",
       "1996    7.746163\n",
       "1997    7.376901\n",
       "1998    7.026766\n",
       "1999    6.667585\n",
       "2000    6.346491\n",
       "2001    6.026327\n",
       "2002    5.735158\n",
       "2003    5.444925\n",
       "2004    5.202723\n",
       "2005    4.952381\n",
       "2006    4.712019\n",
       "2007    4.481636\n",
       "2008    4.261231\n",
       "2009    4.050804\n",
       "2010    3.850352\n",
       "2011    3.678914\n",
       "2012    3.508394\n",
       "2013    3.347853\n",
       "2014    3.197293\n",
       "2015    3.075851\n",
       "2016    2.917009\n",
       "2017    2.805523\n",
       "2018    2.675768\n",
       "2019    2.546036\n",
       "dtype: float64"
      ]
     },
     "execution_count": 22,
     "metadata": {},
     "output_type": "execute_result"
    }
   ],
   "source": [
    "holt_pred"
   ]
  },
  {
   "cell_type": "code",
   "execution_count": 23,
   "metadata": {},
   "outputs": [],
   "source": [
    "dff['holt forecast']=holt_pred"
   ]
  },
  {
   "cell_type": "code",
   "execution_count": 24,
   "metadata": {},
   "outputs": [
    {
     "data": {
      "text/html": [
       "<div>\n",
       "<style scoped>\n",
       "    .dataframe tbody tr th:only-of-type {\n",
       "        vertical-align: middle;\n",
       "    }\n",
       "\n",
       "    .dataframe tbody tr th {\n",
       "        vertical-align: top;\n",
       "    }\n",
       "\n",
       "    .dataframe thead th {\n",
       "        text-align: right;\n",
       "    }\n",
       "</style>\n",
       "<table border=\"1\" class=\"dataframe\">\n",
       "  <thead>\n",
       "    <tr style=\"text-align: right;\">\n",
       "      <th></th>\n",
       "      <th>co2</th>\n",
       "      <th>lifeexpectancy</th>\n",
       "      <th>Infant Mortality Rate</th>\n",
       "      <th>Population Growth Rate</th>\n",
       "      <th>Fertility Rate</th>\n",
       "      <th>GDPpercapita</th>\n",
       "      <th>Infant Mortality Rate forecast</th>\n",
       "      <th>holt forecast</th>\n",
       "    </tr>\n",
       "    <tr>\n",
       "      <th>year</th>\n",
       "      <th></th>\n",
       "      <th></th>\n",
       "      <th></th>\n",
       "      <th></th>\n",
       "      <th></th>\n",
       "      <th></th>\n",
       "      <th></th>\n",
       "      <th></th>\n",
       "    </tr>\n",
       "  </thead>\n",
       "  <tbody>\n",
       "    <tr>\n",
       "      <th>2015</th>\n",
       "      <td>0.459</td>\n",
       "      <td>71.514</td>\n",
       "      <td>3.06</td>\n",
       "      <td>1.091300</td>\n",
       "      <td>2.120</td>\n",
       "      <td>1248.453398</td>\n",
       "      <td>3.069003</td>\n",
       "      <td>3.075851</td>\n",
       "    </tr>\n",
       "    <tr>\n",
       "      <th>2016</th>\n",
       "      <td>0.467</td>\n",
       "      <td>71.785</td>\n",
       "      <td>2.93</td>\n",
       "      <td>1.070244</td>\n",
       "      <td>2.090</td>\n",
       "      <td>1401.620628</td>\n",
       "      <td>2.917053</td>\n",
       "      <td>2.917009</td>\n",
       "    </tr>\n",
       "    <tr>\n",
       "      <th>2017</th>\n",
       "      <td>0.493</td>\n",
       "      <td>72.052</td>\n",
       "      <td>2.80</td>\n",
       "      <td>1.050045</td>\n",
       "      <td>2.062</td>\n",
       "      <td>1563.913699</td>\n",
       "      <td>2.796573</td>\n",
       "      <td>2.805523</td>\n",
       "    </tr>\n",
       "    <tr>\n",
       "      <th>2018</th>\n",
       "      <td>0.513</td>\n",
       "      <td>72.320</td>\n",
       "      <td>2.67</td>\n",
       "      <td>1.042001</td>\n",
       "      <td>2.036</td>\n",
       "      <td>1698.350394</td>\n",
       "      <td>2.671889</td>\n",
       "      <td>2.675768</td>\n",
       "    </tr>\n",
       "    <tr>\n",
       "      <th>2019</th>\n",
       "      <td>NaN</td>\n",
       "      <td>72.591</td>\n",
       "      <td>2.56</td>\n",
       "      <td>NaN</td>\n",
       "      <td>NaN</td>\n",
       "      <td>1855.739824</td>\n",
       "      <td>2.539718</td>\n",
       "      <td>2.546036</td>\n",
       "    </tr>\n",
       "  </tbody>\n",
       "</table>\n",
       "</div>"
      ],
      "text/plain": [
       "        co2  lifeexpectancy  Infant Mortality Rate  Population Growth Rate  \\\n",
       "year                                                                         \n",
       "2015  0.459          71.514                   3.06                1.091300   \n",
       "2016  0.467          71.785                   2.93                1.070244   \n",
       "2017  0.493          72.052                   2.80                1.050045   \n",
       "2018  0.513          72.320                   2.67                1.042001   \n",
       "2019    NaN          72.591                   2.56                     NaN   \n",
       "\n",
       "      Fertility Rate  GDPpercapita  Infant Mortality Rate forecast  \\\n",
       "year                                                                 \n",
       "2015           2.120   1248.453398                        3.069003   \n",
       "2016           2.090   1401.620628                        2.917053   \n",
       "2017           2.062   1563.913699                        2.796573   \n",
       "2018           2.036   1698.350394                        2.671889   \n",
       "2019             NaN   1855.739824                        2.539718   \n",
       "\n",
       "      holt forecast  \n",
       "year                 \n",
       "2015       3.075851  \n",
       "2016       2.917009  \n",
       "2017       2.805523  \n",
       "2018       2.675768  \n",
       "2019       2.546036  "
      ]
     },
     "execution_count": 24,
     "metadata": {},
     "output_type": "execute_result"
    }
   ],
   "source": [
    "dff.tail()"
   ]
  },
  {
   "cell_type": "code",
   "execution_count": 25,
   "metadata": {},
   "outputs": [],
   "source": [
    "dff.to_excel('save2_file.xlsx')"
   ]
  },
  {
   "cell_type": "code",
   "execution_count": null,
   "metadata": {},
   "outputs": [],
   "source": []
  }
 ],
 "metadata": {
  "kernelspec": {
   "display_name": "Python 3",
   "language": "python",
   "name": "python3"
  },
  "language_info": {
   "codemirror_mode": {
    "name": "ipython",
    "version": 3
   },
   "file_extension": ".py",
   "mimetype": "text/x-python",
   "name": "python",
   "nbconvert_exporter": "python",
   "pygments_lexer": "ipython3",
   "version": "3.8.5"
  }
 },
 "nbformat": 4,
 "nbformat_minor": 4
}
