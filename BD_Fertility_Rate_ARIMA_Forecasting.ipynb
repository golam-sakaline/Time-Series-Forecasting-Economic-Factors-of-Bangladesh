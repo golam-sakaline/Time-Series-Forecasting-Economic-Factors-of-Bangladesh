{
 "cells": [
  {
   "cell_type": "code",
   "execution_count": 1,
   "metadata": {},
   "outputs": [],
   "source": [
    "import pandas as pd\n",
    "import numpy as np"
   ]
  },
  {
   "cell_type": "code",
   "execution_count": 2,
   "metadata": {},
   "outputs": [],
   "source": [
    "dff=pd.read_csv(\"BDdata.csv\")"
   ]
  },
  {
   "cell_type": "code",
   "execution_count": 3,
   "metadata": {},
   "outputs": [],
   "source": [
    "dff = dff.set_index('year')"
   ]
  },
  {
   "cell_type": "code",
   "execution_count": 4,
   "metadata": {},
   "outputs": [
    {
     "data": {
      "text/html": [
       "<div>\n",
       "<style scoped>\n",
       "    .dataframe tbody tr th:only-of-type {\n",
       "        vertical-align: middle;\n",
       "    }\n",
       "\n",
       "    .dataframe tbody tr th {\n",
       "        vertical-align: top;\n",
       "    }\n",
       "\n",
       "    .dataframe thead th {\n",
       "        text-align: right;\n",
       "    }\n",
       "</style>\n",
       "<table border=\"1\" class=\"dataframe\">\n",
       "  <thead>\n",
       "    <tr style=\"text-align: right;\">\n",
       "      <th></th>\n",
       "      <th>co2</th>\n",
       "      <th>lifeexpectancy</th>\n",
       "      <th>Infant Mortality Rate</th>\n",
       "      <th>Population Growth Rate</th>\n",
       "      <th>Fertility Rate</th>\n",
       "      <th>GDPpercapita</th>\n",
       "    </tr>\n",
       "    <tr>\n",
       "      <th>year</th>\n",
       "      <th></th>\n",
       "      <th></th>\n",
       "      <th></th>\n",
       "      <th></th>\n",
       "      <th></th>\n",
       "      <th></th>\n",
       "    </tr>\n",
       "  </thead>\n",
       "  <tbody>\n",
       "    <tr>\n",
       "      <th>2015</th>\n",
       "      <td>0.459</td>\n",
       "      <td>71.514</td>\n",
       "      <td>3.06</td>\n",
       "      <td>1.117284</td>\n",
       "      <td>2.120</td>\n",
       "      <td>1248.453398</td>\n",
       "    </tr>\n",
       "    <tr>\n",
       "      <th>2016</th>\n",
       "      <td>0.467</td>\n",
       "      <td>71.785</td>\n",
       "      <td>2.93</td>\n",
       "      <td>1.091300</td>\n",
       "      <td>2.090</td>\n",
       "      <td>1401.620628</td>\n",
       "    </tr>\n",
       "    <tr>\n",
       "      <th>2017</th>\n",
       "      <td>0.493</td>\n",
       "      <td>72.052</td>\n",
       "      <td>2.80</td>\n",
       "      <td>1.070244</td>\n",
       "      <td>2.062</td>\n",
       "      <td>1563.913699</td>\n",
       "    </tr>\n",
       "    <tr>\n",
       "      <th>2018</th>\n",
       "      <td>0.513</td>\n",
       "      <td>72.320</td>\n",
       "      <td>2.67</td>\n",
       "      <td>1.050045</td>\n",
       "      <td>2.036</td>\n",
       "      <td>1698.350394</td>\n",
       "    </tr>\n",
       "    <tr>\n",
       "      <th>2019</th>\n",
       "      <td>0.660</td>\n",
       "      <td>72.591</td>\n",
       "      <td>2.56</td>\n",
       "      <td>1.042001</td>\n",
       "      <td>2.011</td>\n",
       "      <td>1855.739824</td>\n",
       "    </tr>\n",
       "  </tbody>\n",
       "</table>\n",
       "</div>"
      ],
      "text/plain": [
       "        co2  lifeexpectancy  Infant Mortality Rate  Population Growth Rate  \\\n",
       "year                                                                         \n",
       "2015  0.459          71.514                   3.06                1.117284   \n",
       "2016  0.467          71.785                   2.93                1.091300   \n",
       "2017  0.493          72.052                   2.80                1.070244   \n",
       "2018  0.513          72.320                   2.67                1.050045   \n",
       "2019  0.660          72.591                   2.56                1.042001   \n",
       "\n",
       "      Fertility Rate  GDPpercapita  \n",
       "year                                \n",
       "2015           2.120   1248.453398  \n",
       "2016           2.090   1401.620628  \n",
       "2017           2.062   1563.913699  \n",
       "2018           2.036   1698.350394  \n",
       "2019           2.011   1855.739824  "
      ]
     },
     "execution_count": 4,
     "metadata": {},
     "output_type": "execute_result"
    }
   ],
   "source": [
    "dff.tail()"
   ]
  },
  {
   "cell_type": "code",
   "execution_count": 5,
   "metadata": {},
   "outputs": [],
   "source": [
    "from statsmodels.tsa.stattools import adfuller\n",
    "\n",
    "def adf_test(dataset):\n",
    "  dftest = adfuller(dataset, autolag = 'AIC')\n",
    "  print(\"1. ADF : \",dftest[0])\n",
    "  print(\"2. P-Value : \", dftest[1])\n",
    "  print(\"3. Num Of Lags : \", dftest[2])\n",
    "  print(\"4. Num Of Observations Used For ADF Regression and Critical Values Calculation :\", dftest[3])\n",
    "  print(\"5. Critical Values :\")\n",
    "  for key, val in dftest[4].items():\n",
    "      print(\"\\t\",key, \": \", val)"
   ]
  },
  {
   "cell_type": "code",
   "execution_count": 6,
   "metadata": {},
   "outputs": [
    {
     "name": "stdout",
     "output_type": "stream",
     "text": [
      "1. ADF :  -2.735703780972051\n",
      "2. P-Value :  0.06806109455487809\n",
      "3. Num Of Lags :  5\n",
      "4. Num Of Observations Used For ADF Regression and Critical Values Calculation : 54\n",
      "5. Critical Values :\n",
      "\t 1% :  -3.55770911573439\n",
      "\t 5% :  -2.9167703434435808\n",
      "\t 10% :  -2.59622219478738\n"
     ]
    }
   ],
   "source": [
    "adf_test(dff['Fertility Rate'])"
   ]
  },
  {
   "cell_type": "code",
   "execution_count": 7,
   "metadata": {},
   "outputs": [],
   "source": [
    "from pmdarima import auto_arima\n",
    "# Ignore harmless warnings\n",
    "import warnings\n",
    "warnings.filterwarnings(\"ignore\")"
   ]
  },
  {
   "cell_type": "code",
   "execution_count": 8,
   "metadata": {},
   "outputs": [
    {
     "data": {
      "text/html": [
       "<table class=\"simpletable\">\n",
       "<caption>SARIMAX Results</caption>\n",
       "<tr>\n",
       "  <th>Dep. Variable:</th>           <td>y</td>        <th>  No. Observations:  </th>    <td>60</td>   \n",
       "</tr>\n",
       "<tr>\n",
       "  <th>Model:</th>           <td>SARIMAX(2, 1, 3)</td> <th>  Log Likelihood     </th>  <td>297.283</td>\n",
       "</tr>\n",
       "<tr>\n",
       "  <th>Date:</th>            <td>Wed, 13 Oct 2021</td> <th>  AIC                </th> <td>-580.567</td>\n",
       "</tr>\n",
       "<tr>\n",
       "  <th>Time:</th>                <td>23:54:04</td>     <th>  BIC                </th> <td>-566.024</td>\n",
       "</tr>\n",
       "<tr>\n",
       "  <th>Sample:</th>                  <td>0</td>        <th>  HQIC               </th> <td>-574.890</td>\n",
       "</tr>\n",
       "<tr>\n",
       "  <th></th>                       <td> - 60</td>      <th>                     </th>     <td> </td>   \n",
       "</tr>\n",
       "<tr>\n",
       "  <th>Covariance Type:</th>        <td>opg</td>       <th>                     </th>     <td> </td>   \n",
       "</tr>\n",
       "</table>\n",
       "<table class=\"simpletable\">\n",
       "<tr>\n",
       "      <td></td>         <th>coef</th>     <th>std err</th>      <th>z</th>      <th>P>|z|</th>  <th>[0.025</th>    <th>0.975]</th>  \n",
       "</tr>\n",
       "<tr>\n",
       "  <th>intercept</th> <td>   -0.0012</td> <td>    0.000</td> <td>   -2.338</td> <td> 0.019</td> <td>   -0.002</td> <td>   -0.000</td>\n",
       "</tr>\n",
       "<tr>\n",
       "  <th>ar.L1</th>     <td>    1.9290</td> <td>    0.038</td> <td>   51.141</td> <td> 0.000</td> <td>    1.855</td> <td>    2.003</td>\n",
       "</tr>\n",
       "<tr>\n",
       "  <th>ar.L2</th>     <td>   -0.9462</td> <td>    0.037</td> <td>  -25.647</td> <td> 0.000</td> <td>   -1.019</td> <td>   -0.874</td>\n",
       "</tr>\n",
       "<tr>\n",
       "  <th>ma.L1</th>     <td>    0.1241</td> <td>    0.140</td> <td>    0.887</td> <td> 0.375</td> <td>   -0.150</td> <td>    0.398</td>\n",
       "</tr>\n",
       "<tr>\n",
       "  <th>ma.L2</th>     <td>    0.4579</td> <td>    0.126</td> <td>    3.621</td> <td> 0.000</td> <td>    0.210</td> <td>    0.706</td>\n",
       "</tr>\n",
       "<tr>\n",
       "  <th>ma.L3</th>     <td>    0.3836</td> <td>    0.124</td> <td>    3.097</td> <td> 0.002</td> <td>    0.141</td> <td>    0.626</td>\n",
       "</tr>\n",
       "<tr>\n",
       "  <th>sigma2</th>    <td> 2.004e-06</td> <td> 5.24e-07</td> <td>    3.823</td> <td> 0.000</td> <td> 9.76e-07</td> <td> 3.03e-06</td>\n",
       "</tr>\n",
       "</table>\n",
       "<table class=\"simpletable\">\n",
       "<tr>\n",
       "  <th>Ljung-Box (L1) (Q):</th>     <td>0.09</td> <th>  Jarque-Bera (JB):  </th> <td>0.99</td> \n",
       "</tr>\n",
       "<tr>\n",
       "  <th>Prob(Q):</th>                <td>0.77</td> <th>  Prob(JB):          </th> <td>0.61</td> \n",
       "</tr>\n",
       "<tr>\n",
       "  <th>Heteroskedasticity (H):</th> <td>0.55</td> <th>  Skew:              </th> <td>-0.07</td>\n",
       "</tr>\n",
       "<tr>\n",
       "  <th>Prob(H) (two-sided):</th>    <td>0.19</td> <th>  Kurtosis:          </th> <td>2.38</td> \n",
       "</tr>\n",
       "</table><br/><br/>Warnings:<br/>[1] Covariance matrix calculated using the outer product of gradients (complex-step)."
      ],
      "text/plain": [
       "<class 'statsmodels.iolib.summary.Summary'>\n",
       "\"\"\"\n",
       "                               SARIMAX Results                                \n",
       "==============================================================================\n",
       "Dep. Variable:                      y   No. Observations:                   60\n",
       "Model:               SARIMAX(2, 1, 3)   Log Likelihood                 297.283\n",
       "Date:                Wed, 13 Oct 2021   AIC                           -580.567\n",
       "Time:                        23:54:04   BIC                           -566.024\n",
       "Sample:                             0   HQIC                          -574.890\n",
       "                                 - 60                                         \n",
       "Covariance Type:                  opg                                         \n",
       "==============================================================================\n",
       "                 coef    std err          z      P>|z|      [0.025      0.975]\n",
       "------------------------------------------------------------------------------\n",
       "intercept     -0.0012      0.000     -2.338      0.019      -0.002      -0.000\n",
       "ar.L1          1.9290      0.038     51.141      0.000       1.855       2.003\n",
       "ar.L2         -0.9462      0.037    -25.647      0.000      -1.019      -0.874\n",
       "ma.L1          0.1241      0.140      0.887      0.375      -0.150       0.398\n",
       "ma.L2          0.4579      0.126      3.621      0.000       0.210       0.706\n",
       "ma.L3          0.3836      0.124      3.097      0.002       0.141       0.626\n",
       "sigma2      2.004e-06   5.24e-07      3.823      0.000    9.76e-07    3.03e-06\n",
       "===================================================================================\n",
       "Ljung-Box (L1) (Q):                   0.09   Jarque-Bera (JB):                 0.99\n",
       "Prob(Q):                              0.77   Prob(JB):                         0.61\n",
       "Heteroskedasticity (H):               0.55   Skew:                            -0.07\n",
       "Prob(H) (two-sided):                  0.19   Kurtosis:                         2.38\n",
       "===================================================================================\n",
       "\n",
       "Warnings:\n",
       "[1] Covariance matrix calculated using the outer product of gradients (complex-step).\n",
       "\"\"\""
      ]
     },
     "execution_count": 8,
     "metadata": {},
     "output_type": "execute_result"
    }
   ],
   "source": [
    "stepwise_fit = auto_arima(dff['Fertility Rate'], \n",
    "                          suppress_warnings=True)           \n",
    "\n",
    "stepwise_fit.summary()"
   ]
  },
  {
   "cell_type": "code",
   "execution_count": 9,
   "metadata": {},
   "outputs": [],
   "source": [
    "from statsmodels.tsa.arima_model import ARIMA"
   ]
  },
  {
   "cell_type": "code",
   "execution_count": 10,
   "metadata": {},
   "outputs": [
    {
     "name": "stdout",
     "output_type": "stream",
     "text": [
      "(60, 6)\n",
      "(30, 6) (30, 6)\n",
      "co2                         0.112000\n",
      "lifeexpectancy             58.210000\n",
      "Infant Mortality Rate       9.970000\n",
      "Population Growth Rate      2.429599\n",
      "Fertility Rate              4.495000\n",
      "GDPpercapita              306.268704\n",
      "Name: 1990, dtype: float64 co2                          0.660000\n",
      "lifeexpectancy              72.591000\n",
      "Infant Mortality Rate        2.560000\n",
      "Population Growth Rate       1.042001\n",
      "Fertility Rate               2.011000\n",
      "GDPpercapita              1855.739824\n",
      "Name: 2019, dtype: float64\n"
     ]
    }
   ],
   "source": [
    "print(dff.shape)\n",
    "train=dff.iloc[:-30]\n",
    "test=dff.iloc[-30:]\n",
    "print(train.shape,test.shape)\n",
    "print(test.iloc[0],test.iloc[-1])"
   ]
  },
  {
   "cell_type": "code",
   "execution_count": 11,
   "metadata": {},
   "outputs": [
    {
     "data": {
      "text/html": [
       "<table class=\"simpletable\">\n",
       "<caption>ARIMA Model Results</caption>\n",
       "<tr>\n",
       "  <th>Dep. Variable:</th> <td>D.Fertility Rate</td> <th>  No. Observations:  </th>    <td>59</td>   \n",
       "</tr>\n",
       "<tr>\n",
       "  <th>Model:</th>          <td>ARIMA(2, 1, 3)</td>  <th>  Log Likelihood     </th>  <td>297.780</td>\n",
       "</tr>\n",
       "<tr>\n",
       "  <th>Method:</th>             <td>css-mle</td>     <th>  S.D. of innovations</th>   <td>0.001</td> \n",
       "</tr>\n",
       "<tr>\n",
       "  <th>Date:</th>          <td>Wed, 13 Oct 2021</td> <th>  AIC                </th> <td>-581.560</td>\n",
       "</tr>\n",
       "<tr>\n",
       "  <th>Time:</th>              <td>23:54:07</td>     <th>  BIC                </th> <td>-567.017</td>\n",
       "</tr>\n",
       "<tr>\n",
       "  <th>Sample:</th>                <td>1</td>        <th>  HQIC               </th> <td>-575.883</td>\n",
       "</tr>\n",
       "<tr>\n",
       "  <th></th>                       <td> </td>        <th>                     </th>     <td> </td>   \n",
       "</tr>\n",
       "</table>\n",
       "<table class=\"simpletable\">\n",
       "<tr>\n",
       "             <td></td>               <th>coef</th>     <th>std err</th>      <th>z</th>      <th>P>|z|</th>  <th>[0.025</th>    <th>0.975]</th>  \n",
       "</tr>\n",
       "<tr>\n",
       "  <th>const</th>                  <td>   -0.0654</td> <td>    0.025</td> <td>   -2.604</td> <td> 0.009</td> <td>   -0.115</td> <td>   -0.016</td>\n",
       "</tr>\n",
       "<tr>\n",
       "  <th>ar.L1.D.Fertility Rate</th> <td>    1.9339</td> <td>    0.034</td> <td>   56.389</td> <td> 0.000</td> <td>    1.867</td> <td>    2.001</td>\n",
       "</tr>\n",
       "<tr>\n",
       "  <th>ar.L2.D.Fertility Rate</th> <td>   -0.9474</td> <td>    0.035</td> <td>  -27.072</td> <td> 0.000</td> <td>   -1.016</td> <td>   -0.879</td>\n",
       "</tr>\n",
       "<tr>\n",
       "  <th>ma.L1.D.Fertility Rate</th> <td>    0.1199</td> <td>    0.133</td> <td>    0.900</td> <td> 0.368</td> <td>   -0.141</td> <td>    0.381</td>\n",
       "</tr>\n",
       "<tr>\n",
       "  <th>ma.L2.D.Fertility Rate</th> <td>    0.4000</td> <td>    0.129</td> <td>    3.090</td> <td> 0.002</td> <td>    0.146</td> <td>    0.654</td>\n",
       "</tr>\n",
       "<tr>\n",
       "  <th>ma.L3.D.Fertility Rate</th> <td>    0.3457</td> <td>    0.121</td> <td>    2.857</td> <td> 0.004</td> <td>    0.109</td> <td>    0.583</td>\n",
       "</tr>\n",
       "</table>\n",
       "<table class=\"simpletable\">\n",
       "<caption>Roots</caption>\n",
       "<tr>\n",
       "    <td></td>   <th>            Real</th>  <th>         Imaginary</th> <th>         Modulus</th>  <th>        Frequency</th>\n",
       "</tr>\n",
       "<tr>\n",
       "  <th>AR.1</th> <td>           1.0207</td> <td>          -0.1175j</td> <td>           1.0274</td> <td>          -0.0182</td>\n",
       "</tr>\n",
       "<tr>\n",
       "  <th>AR.2</th> <td>           1.0207</td> <td>          +0.1175j</td> <td>           1.0274</td> <td>           0.0182</td>\n",
       "</tr>\n",
       "<tr>\n",
       "  <th>MA.1</th> <td>           0.3368</td> <td>          -1.2110j</td> <td>           1.2570</td> <td>          -0.2068</td>\n",
       "</tr>\n",
       "<tr>\n",
       "  <th>MA.2</th> <td>           0.3368</td> <td>          +1.2110j</td> <td>           1.2570</td> <td>           0.2068</td>\n",
       "</tr>\n",
       "<tr>\n",
       "  <th>MA.3</th> <td>          -1.8308</td> <td>          -0.0000j</td> <td>           1.8308</td> <td>          -0.5000</td>\n",
       "</tr>\n",
       "</table>"
      ],
      "text/plain": [
       "<class 'statsmodels.iolib.summary.Summary'>\n",
       "\"\"\"\n",
       "                             ARIMA Model Results                              \n",
       "==============================================================================\n",
       "Dep. Variable:       D.Fertility Rate   No. Observations:                   59\n",
       "Model:                 ARIMA(2, 1, 3)   Log Likelihood                 297.780\n",
       "Method:                       css-mle   S.D. of innovations              0.001\n",
       "Date:                Wed, 13 Oct 2021   AIC                           -581.560\n",
       "Time:                        23:54:07   BIC                           -567.017\n",
       "Sample:                             1   HQIC                          -575.883\n",
       "                                                                              \n",
       "==========================================================================================\n",
       "                             coef    std err          z      P>|z|      [0.025      0.975]\n",
       "------------------------------------------------------------------------------------------\n",
       "const                     -0.0654      0.025     -2.604      0.009      -0.115      -0.016\n",
       "ar.L1.D.Fertility Rate     1.9339      0.034     56.389      0.000       1.867       2.001\n",
       "ar.L2.D.Fertility Rate    -0.9474      0.035    -27.072      0.000      -1.016      -0.879\n",
       "ma.L1.D.Fertility Rate     0.1199      0.133      0.900      0.368      -0.141       0.381\n",
       "ma.L2.D.Fertility Rate     0.4000      0.129      3.090      0.002       0.146       0.654\n",
       "ma.L3.D.Fertility Rate     0.3457      0.121      2.857      0.004       0.109       0.583\n",
       "                                    Roots                                    \n",
       "=============================================================================\n",
       "                  Real          Imaginary           Modulus         Frequency\n",
       "-----------------------------------------------------------------------------\n",
       "AR.1            1.0207           -0.1175j            1.0274           -0.0182\n",
       "AR.2            1.0207           +0.1175j            1.0274            0.0182\n",
       "MA.1            0.3368           -1.2110j            1.2570           -0.2068\n",
       "MA.2            0.3368           +1.2110j            1.2570            0.2068\n",
       "MA.3           -1.8308           -0.0000j            1.8308           -0.5000\n",
       "-----------------------------------------------------------------------------\n",
       "\"\"\""
      ]
     },
     "execution_count": 11,
     "metadata": {},
     "output_type": "execute_result"
    }
   ],
   "source": [
    "from statsmodels.tsa.arima_model import ARIMA\n",
    "model=ARIMA(dff['Fertility Rate'],order=(2,1,3))\n",
    "model1=model.fit()\n",
    "model1.summary()"
   ]
  },
  {
   "cell_type": "code",
   "execution_count": 14,
   "metadata": {},
   "outputs": [
    {
     "data": {
      "text/plain": [
       "<AxesSubplot:xlabel='year'>"
      ]
     },
     "execution_count": 14,
     "metadata": {},
     "output_type": "execute_result"
    },
    {
     "data": {
      "image/png": "[encoded data removed]",
      "text/plain": [
       "<Figure size 432x288 with 1 Axes>"
      ]
     },
     "metadata": {
      "needs_background": "light"
     },
     "output_type": "display_data"
    }
   ],
   "source": [
    "start=len(train)\n",
    "end=len(train)+len(test)-1\n",
    "pred=model1.predict(start=start,end=end,typ='levels').rename('ARIMA predictions')\n",
    "pred.plot(legend=True)\n",
    "test['Fertility Rate'].plot(legend=True)"
   ]
  },
  {
   "cell_type": "code",
   "execution_count": 14,
   "metadata": {},
   "outputs": [],
   "source": [
    "from sklearn.metrics import mean_squared_error,  mean_absolute_error"
   ]
  },
  {
   "cell_type": "code",
   "execution_count": 14,
   "metadata": {},
   "outputs": [
    {
     "data": {
      "text/plain": [
       "30    2.427919\n",
       "31    2.334843\n",
       "32    2.225934\n",
       "33    2.170581\n",
       "34    2.138857\n",
       "35    2.138206\n",
       "36    2.140728\n",
       "37    2.104460\n",
       "38    2.083839\n",
       "39    2.024594\n",
       "40    1.955440\n",
       "41    1.876068\n",
       "42    1.843446\n",
       "43    1.744351\n",
       "44    1.617714\n",
       "45    1.497715\n",
       "46    1.354122\n",
       "47    1.225419\n",
       "48    1.143486\n",
       "49    1.116063\n",
       "50    1.130043\n",
       "51    1.148491\n",
       "52    1.150582\n",
       "53    1.150923\n",
       "54    1.147145\n",
       "55    1.108966\n",
       "56    1.086209\n",
       "57    1.073703\n",
       "58    1.045699\n",
       "59    1.033196\n",
       "Name: ARIMA predictions, dtype: float64"
      ]
     },
     "execution_count": 14,
     "metadata": {},
     "output_type": "execute_result"
    }
   ],
   "source": [
    "pred"
   ]
  },
  {
   "cell_type": "code",
   "execution_count": 15,
   "metadata": {},
   "outputs": [],
   "source": [
    "dff['Fertility Rate Forecast']=pred"
   ]
  },
  {
   "cell_type": "code",
   "execution_count": 16,
   "metadata": {},
   "outputs": [
    {
     "data": {
      "text/html": [
       "<div>\n",
       "<style scoped>\n",
       "    .dataframe tbody tr th:only-of-type {\n",
       "        vertical-align: middle;\n",
       "    }\n",
       "\n",
       "    .dataframe tbody tr th {\n",
       "        vertical-align: top;\n",
       "    }\n",
       "\n",
       "    .dataframe thead th {\n",
       "        text-align: right;\n",
       "    }\n",
       "</style>\n",
       "<table border=\"1\" class=\"dataframe\">\n",
       "  <thead>\n",
       "    <tr style=\"text-align: right;\">\n",
       "      <th></th>\n",
       "      <th>co2</th>\n",
       "      <th>lifeexpectancy</th>\n",
       "      <th>Infant Mortality Rate</th>\n",
       "      <th>Population Growth Rate</th>\n",
       "      <th>Fertility Rate</th>\n",
       "      <th>GDPpercapita</th>\n",
       "      <th>Fertility Rate Forecast</th>\n",
       "    </tr>\n",
       "    <tr>\n",
       "      <th>year</th>\n",
       "      <th></th>\n",
       "      <th></th>\n",
       "      <th></th>\n",
       "      <th></th>\n",
       "      <th></th>\n",
       "      <th></th>\n",
       "      <th></th>\n",
       "    </tr>\n",
       "  </thead>\n",
       "  <tbody>\n",
       "    <tr>\n",
       "      <th>2015</th>\n",
       "      <td>0.459</td>\n",
       "      <td>71.514</td>\n",
       "      <td>3.06</td>\n",
       "      <td>1.117284</td>\n",
       "      <td>2.120</td>\n",
       "      <td>1248.453398</td>\n",
       "      <td>2.119116</td>\n",
       "    </tr>\n",
       "    <tr>\n",
       "      <th>2016</th>\n",
       "      <td>0.467</td>\n",
       "      <td>71.785</td>\n",
       "      <td>2.93</td>\n",
       "      <td>1.091300</td>\n",
       "      <td>2.090</td>\n",
       "      <td>1401.620628</td>\n",
       "      <td>2.091578</td>\n",
       "    </tr>\n",
       "    <tr>\n",
       "      <th>2017</th>\n",
       "      <td>0.493</td>\n",
       "      <td>72.052</td>\n",
       "      <td>2.80</td>\n",
       "      <td>1.070244</td>\n",
       "      <td>2.062</td>\n",
       "      <td>1563.913699</td>\n",
       "      <td>2.061761</td>\n",
       "    </tr>\n",
       "    <tr>\n",
       "      <th>2018</th>\n",
       "      <td>0.513</td>\n",
       "      <td>72.320</td>\n",
       "      <td>2.67</td>\n",
       "      <td>1.050045</td>\n",
       "      <td>2.036</td>\n",
       "      <td>1698.350394</td>\n",
       "      <td>2.035093</td>\n",
       "    </tr>\n",
       "    <tr>\n",
       "      <th>2019</th>\n",
       "      <td>NaN</td>\n",
       "      <td>72.591</td>\n",
       "      <td>2.56</td>\n",
       "      <td>1.042001</td>\n",
       "      <td>2.011</td>\n",
       "      <td>1855.739824</td>\n",
       "      <td>2.011022</td>\n",
       "    </tr>\n",
       "  </tbody>\n",
       "</table>\n",
       "</div>"
      ],
      "text/plain": [
       "        co2  lifeexpectancy  Infant Mortality Rate  Population Growth Rate  \\\n",
       "year                                                                         \n",
       "2015  0.459          71.514                   3.06                1.117284   \n",
       "2016  0.467          71.785                   2.93                1.091300   \n",
       "2017  0.493          72.052                   2.80                1.070244   \n",
       "2018  0.513          72.320                   2.67                1.050045   \n",
       "2019    NaN          72.591                   2.56                1.042001   \n",
       "\n",
       "      Fertility Rate  GDPpercapita  Fertility Rate Forecast  \n",
       "year                                                         \n",
       "2015           2.120   1248.453398                 2.119116  \n",
       "2016           2.090   1401.620628                 2.091578  \n",
       "2017           2.062   1563.913699                 2.061761  \n",
       "2018           2.036   1698.350394                 2.035093  \n",
       "2019           2.011   1855.739824                 2.011022  "
      ]
     },
     "execution_count": 16,
     "metadata": {},
     "output_type": "execute_result"
    }
   ],
   "source": [
    "dff.tail()"
   ]
  },
  {
   "cell_type": "code",
   "execution_count": 17,
   "metadata": {},
   "outputs": [],
   "source": [
    "from statsmodels.tsa.holtwinters import ExponentialSmoothing,SimpleExpSmoothing, Holt"
   ]
  },
  {
   "cell_type": "code",
   "execution_count": 18,
   "metadata": {},
   "outputs": [],
   "source": [
    "holt=Holt(dff['Fertility Rate'],exponential=True).fit()"
   ]
  },
  {
   "cell_type": "code",
   "execution_count": 19,
   "metadata": {},
   "outputs": [],
   "source": [
    "holt_pred = holt.predict(start=start, end=end)"
   ]
  },
  {
   "cell_type": "code",
   "execution_count": 20,
   "metadata": {},
   "outputs": [
    {
     "data": {
      "text/plain": [
       "<AxesSubplot:xlabel='year'>"
      ]
     },
     "execution_count": 20,
     "metadata": {},
     "output_type": "execute_result"
    },
    {
     "data": {
      "image/png": "[encoded data removed]",
      "text/plain": [
       "<Figure size 432x288 with 1 Axes>"
      ]
     },
     "metadata": {
      "needs_background": "light"
     },
     "output_type": "display_data"
    }
   ],
   "source": [
    "holt_pred.plot(legend=True)\n",
    "test['Fertility Rate'].plot(legend=True)"
   ]
  },
  {
   "cell_type": "code",
   "execution_count": 22,
   "metadata": {},
   "outputs": [
    {
     "data": {
      "text/plain": [
       "year\n",
       "1990    9.982782\n",
       "1991    9.613240\n",
       "1992    9.224483\n",
       "1993    8.864275\n",
       "1994    8.475662\n",
       "1995    8.115486\n",
       "1996    7.746163\n",
       "1997    7.376901\n",
       "1998    7.026766\n",
       "1999    6.667585\n",
       "2000    6.346491\n",
       "2001    6.026327\n",
       "2002    5.735158\n",
       "2003    5.444925\n",
       "2004    5.202723\n",
       "2005    4.952381\n",
       "2006    4.712019\n",
       "2007    4.481636\n",
       "2008    4.261231\n",
       "2009    4.050804\n",
       "2010    3.850352\n",
       "2011    3.678914\n",
       "2012    3.508394\n",
       "2013    3.347853\n",
       "2014    3.197293\n",
       "2015    3.075851\n",
       "2016    2.917009\n",
       "2017    2.805523\n",
       "2018    2.675768\n",
       "2019    2.546036\n",
       "dtype: float64"
      ]
     },
     "execution_count": 22,
     "metadata": {},
     "output_type": "execute_result"
    }
   ],
   "source": [
    "holt_pred"
   ]
  },
  {
   "cell_type": "code",
   "execution_count": 21,
   "metadata": {},
   "outputs": [],
   "source": [
    "dff['holt forecast']=holt_pred"
   ]
  },
  {
   "cell_type": "code",
   "execution_count": 22,
   "metadata": {},
   "outputs": [
    {
     "data": {
      "text/html": [
       "<div>\n",
       "<style scoped>\n",
       "    .dataframe tbody tr th:only-of-type {\n",
       "        vertical-align: middle;\n",
       "    }\n",
       "\n",
       "    .dataframe tbody tr th {\n",
       "        vertical-align: top;\n",
       "    }\n",
       "\n",
       "    .dataframe thead th {\n",
       "        text-align: right;\n",
       "    }\n",
       "</style>\n",
       "<table border=\"1\" class=\"dataframe\">\n",
       "  <thead>\n",
       "    <tr style=\"text-align: right;\">\n",
       "      <th></th>\n",
       "      <th>co2</th>\n",
       "      <th>lifeexpectancy</th>\n",
       "      <th>Infant Mortality Rate</th>\n",
       "      <th>Population Growth Rate</th>\n",
       "      <th>Fertility Rate</th>\n",
       "      <th>GDPpercapita</th>\n",
       "      <th>Fertility Rate Forecast</th>\n",
       "      <th>holt forecast</th>\n",
       "    </tr>\n",
       "    <tr>\n",
       "      <th>year</th>\n",
       "      <th></th>\n",
       "      <th></th>\n",
       "      <th></th>\n",
       "      <th></th>\n",
       "      <th></th>\n",
       "      <th></th>\n",
       "      <th></th>\n",
       "      <th></th>\n",
       "    </tr>\n",
       "  </thead>\n",
       "  <tbody>\n",
       "    <tr>\n",
       "      <th>2015</th>\n",
       "      <td>0.459</td>\n",
       "      <td>71.514</td>\n",
       "      <td>3.06</td>\n",
       "      <td>1.117284</td>\n",
       "      <td>2.120</td>\n",
       "      <td>1248.453398</td>\n",
       "      <td>2.119116</td>\n",
       "      <td>2.116592</td>\n",
       "    </tr>\n",
       "    <tr>\n",
       "      <th>2016</th>\n",
       "      <td>0.467</td>\n",
       "      <td>71.785</td>\n",
       "      <td>2.93</td>\n",
       "      <td>1.091300</td>\n",
       "      <td>2.090</td>\n",
       "      <td>1401.620628</td>\n",
       "      <td>2.091578</td>\n",
       "      <td>2.088476</td>\n",
       "    </tr>\n",
       "    <tr>\n",
       "      <th>2017</th>\n",
       "      <td>0.493</td>\n",
       "      <td>72.052</td>\n",
       "      <td>2.80</td>\n",
       "      <td>1.070244</td>\n",
       "      <td>2.062</td>\n",
       "      <td>1563.913699</td>\n",
       "      <td>2.061761</td>\n",
       "      <td>2.060425</td>\n",
       "    </tr>\n",
       "    <tr>\n",
       "      <th>2018</th>\n",
       "      <td>0.513</td>\n",
       "      <td>72.320</td>\n",
       "      <td>2.67</td>\n",
       "      <td>1.050045</td>\n",
       "      <td>2.036</td>\n",
       "      <td>1698.350394</td>\n",
       "      <td>2.035093</td>\n",
       "      <td>2.034375</td>\n",
       "    </tr>\n",
       "    <tr>\n",
       "      <th>2019</th>\n",
       "      <td>NaN</td>\n",
       "      <td>72.591</td>\n",
       "      <td>2.56</td>\n",
       "      <td>1.042001</td>\n",
       "      <td>2.011</td>\n",
       "      <td>1855.739824</td>\n",
       "      <td>2.011022</td>\n",
       "      <td>2.010328</td>\n",
       "    </tr>\n",
       "  </tbody>\n",
       "</table>\n",
       "</div>"
      ],
      "text/plain": [
       "        co2  lifeexpectancy  Infant Mortality Rate  Population Growth Rate  \\\n",
       "year                                                                         \n",
       "2015  0.459          71.514                   3.06                1.117284   \n",
       "2016  0.467          71.785                   2.93                1.091300   \n",
       "2017  0.493          72.052                   2.80                1.070244   \n",
       "2018  0.513          72.320                   2.67                1.050045   \n",
       "2019    NaN          72.591                   2.56                1.042001   \n",
       "\n",
       "      Fertility Rate  GDPpercapita  Fertility Rate Forecast  holt forecast  \n",
       "year                                                                        \n",
       "2015           2.120   1248.453398                 2.119116       2.116592  \n",
       "2016           2.090   1401.620628                 2.091578       2.088476  \n",
       "2017           2.062   1563.913699                 2.061761       2.060425  \n",
       "2018           2.036   1698.350394                 2.035093       2.034375  \n",
       "2019           2.011   1855.739824                 2.011022       2.010328  "
      ]
     },
     "execution_count": 22,
     "metadata": {},
     "output_type": "execute_result"
    }
   ],
   "source": [
    "dff.tail()"
   ]
  },
  {
   "cell_type": "code",
   "execution_count": 23,
   "metadata": {},
   "outputs": [],
   "source": [
    "dff.to_excel('save4_file.xlsx')"
   ]
  },
  {
   "cell_type": "code",
   "execution_count": null,
   "metadata": {},
   "outputs": [],
   "source": []
  }
 ],
 "metadata": {
  "kernelspec": {
   "display_name": "Python 3",
   "language": "python",
   "name": "python3"
  },
  "language_info": {
   "codemirror_mode": {
    "name": "ipython",
    "version": 3
   },
   "file_extension": ".py",
   "mimetype": "text/x-python",
   "name": "python",
   "nbconvert_exporter": "python",
   "pygments_lexer": "ipython3",
   "version": "3.8.5"
  }
 },
 "nbformat": 4,
 "nbformat_minor": 4
}
